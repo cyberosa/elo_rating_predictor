{
 "cells": [
  {
   "cell_type": "markdown",
   "metadata": {},
   "source": [
    "# Load processed training data"
   ]
  },
  {
   "cell_type": "code",
   "execution_count": 2,
   "metadata": {},
   "outputs": [],
   "source": [
    "import pandas as pd\n",
    "import seaborn as sns"
   ]
  },
  {
   "cell_type": "code",
   "execution_count": 151,
   "metadata": {},
   "outputs": [],
   "source": [
    "training_df = pd.read_pickle(\"../data/io/full_train_df\")"
   ]
  },
  {
   "cell_type": "code",
   "execution_count": 152,
   "metadata": {},
   "outputs": [
    {
     "name": "stdout",
     "output_type": "stream",
     "text": [
      "<class 'pandas.core.frame.DataFrame'>\n",
      "Int64Index: 158656 entries, 0 to 0\n",
      "Data columns (total 9 columns):\n",
      " #   Column        Non-Null Count   Dtype         \n",
      "---  ------        --------------   -----         \n",
      " 0   start_date    158656 non-null  object        \n",
      " 1   end_date      158656 non-null  object        \n",
      " 2   time_control  158656 non-null  object        \n",
      " 3   white         158656 non-null  object        \n",
      " 4   black         158656 non-null  object        \n",
      " 5   date          158656 non-null  datetime64[ns]\n",
      " 6   result        158656 non-null  float64       \n",
      " 7   id            158656 non-null  object        \n",
      " 8   game_year     158656 non-null  int64         \n",
      "dtypes: datetime64[ns](1), float64(1), int64(1), object(6)\n",
      "memory usage: 12.1+ MB\n"
     ]
    }
   ],
   "source": [
    "training_df.info()"
   ]
  },
  {
   "cell_type": "markdown",
   "metadata": {},
   "source": [
    "We have a total of 158656 games from all the 800 tournaments and no null values."
   ]
  },
  {
   "cell_type": "code",
   "execution_count": 153,
   "metadata": {},
   "outputs": [
    {
     "data": {
      "text/html": [
       "<div>\n",
       "<style scoped>\n",
       "    .dataframe tbody tr th:only-of-type {\n",
       "        vertical-align: middle;\n",
       "    }\n",
       "\n",
       "    .dataframe tbody tr th {\n",
       "        vertical-align: top;\n",
       "    }\n",
       "\n",
       "    .dataframe thead th {\n",
       "        text-align: right;\n",
       "    }\n",
       "</style>\n",
       "<table border=\"1\" class=\"dataframe\">\n",
       "  <thead>\n",
       "    <tr style=\"text-align: right;\">\n",
       "      <th></th>\n",
       "      <th>start_date</th>\n",
       "      <th>end_date</th>\n",
       "      <th>time_control</th>\n",
       "      <th>white</th>\n",
       "      <th>black</th>\n",
       "      <th>date</th>\n",
       "      <th>result</th>\n",
       "      <th>id</th>\n",
       "      <th>game_year</th>\n",
       "    </tr>\n",
       "  </thead>\n",
       "  <tbody>\n",
       "    <tr>\n",
       "      <th>0</th>\n",
       "      <td>2014-01-08</td>\n",
       "      <td>2014-01-17</td>\n",
       "      <td>rapid</td>\n",
       "      <td>Jia Xiezhen</td>\n",
       "      <td>Fan Chenni</td>\n",
       "      <td>2014-01-08</td>\n",
       "      <td>0.5</td>\n",
       "      <td>tournament_1_1</td>\n",
       "      <td>2014</td>\n",
       "    </tr>\n",
       "    <tr>\n",
       "      <th>0</th>\n",
       "      <td>2014-01-08</td>\n",
       "      <td>2014-01-17</td>\n",
       "      <td>rapid</td>\n",
       "      <td>Lu Yaguang</td>\n",
       "      <td>Li Jiajue</td>\n",
       "      <td>2014-01-08</td>\n",
       "      <td>0.5</td>\n",
       "      <td>tournament_1_2</td>\n",
       "      <td>2014</td>\n",
       "    </tr>\n",
       "    <tr>\n",
       "      <th>0</th>\n",
       "      <td>2014-01-08</td>\n",
       "      <td>2014-01-17</td>\n",
       "      <td>rapid</td>\n",
       "      <td>Liu Qixi</td>\n",
       "      <td>Liu Xiaopeng</td>\n",
       "      <td>2014-01-08</td>\n",
       "      <td>0.5</td>\n",
       "      <td>tournament_1_3</td>\n",
       "      <td>2014</td>\n",
       "    </tr>\n",
       "    <tr>\n",
       "      <th>0</th>\n",
       "      <td>2014-01-08</td>\n",
       "      <td>2014-01-17</td>\n",
       "      <td>rapid</td>\n",
       "      <td>Lu Guijie</td>\n",
       "      <td>Zheng Xincong</td>\n",
       "      <td>2014-01-08</td>\n",
       "      <td>1.0</td>\n",
       "      <td>tournament_1_4</td>\n",
       "      <td>2014</td>\n",
       "    </tr>\n",
       "    <tr>\n",
       "      <th>0</th>\n",
       "      <td>2014-01-08</td>\n",
       "      <td>2014-01-17</td>\n",
       "      <td>rapid</td>\n",
       "      <td>Li Wenling</td>\n",
       "      <td>Xie Tianying</td>\n",
       "      <td>2014-01-08</td>\n",
       "      <td>0.5</td>\n",
       "      <td>tournament_1_5</td>\n",
       "      <td>2014</td>\n",
       "    </tr>\n",
       "  </tbody>\n",
       "</table>\n",
       "</div>"
      ],
      "text/plain": [
       "   start_date    end_date time_control        white          black       date  \\\n",
       "0  2014-01-08  2014-01-17        rapid  Jia Xiezhen     Fan Chenni 2014-01-08   \n",
       "0  2014-01-08  2014-01-17        rapid   Lu Yaguang      Li Jiajue 2014-01-08   \n",
       "0  2014-01-08  2014-01-17        rapid     Liu Qixi   Liu Xiaopeng 2014-01-08   \n",
       "0  2014-01-08  2014-01-17        rapid    Lu Guijie  Zheng Xincong 2014-01-08   \n",
       "0  2014-01-08  2014-01-17        rapid   Li Wenling   Xie Tianying 2014-01-08   \n",
       "\n",
       "   result              id  game_year  \n",
       "0     0.5  tournament_1_1       2014  \n",
       "0     0.5  tournament_1_2       2014  \n",
       "0     0.5  tournament_1_3       2014  \n",
       "0     1.0  tournament_1_4       2014  \n",
       "0     0.5  tournament_1_5       2014  "
      ]
     },
     "execution_count": 153,
     "metadata": {},
     "output_type": "execute_result"
    }
   ],
   "source": [
    "training_df.head()"
   ]
  },
  {
   "cell_type": "markdown",
   "metadata": {},
   "source": [
    "# Formatting"
   ]
  },
  {
   "cell_type": "code",
   "execution_count": 154,
   "metadata": {},
   "outputs": [],
   "source": [
    "training_df['start_date'] = pd.to_datetime(training_df['start_date'], format='%Y-%m-%d')\n",
    "training_df['end_date'] = pd.to_datetime(training_df['end_date'], format='%Y-%m-%d')\n",
    "training_df['date'] = pd.to_datetime(training_df['date'], format='%Y-%m-%d')"
   ]
  },
  {
   "cell_type": "code",
   "execution_count": 155,
   "metadata": {},
   "outputs": [],
   "source": [
    "training_df.rename(columns={'date': 'game_date'}, inplace=True)"
   ]
  },
  {
   "cell_type": "markdown",
   "metadata": {},
   "source": [
    "Sort the rows by date."
   ]
  },
  {
   "cell_type": "code",
   "execution_count": 156,
   "metadata": {},
   "outputs": [],
   "source": [
    "training_df= training_df.sort_values(by='game_date')"
   ]
  },
  {
   "cell_type": "code",
   "execution_count": 157,
   "metadata": {},
   "outputs": [
    {
     "data": {
      "text/plain": [
       "Timestamp('2014-01-08 00:00:00')"
      ]
     },
     "execution_count": 157,
     "metadata": {},
     "output_type": "execute_result"
    }
   ],
   "source": [
    "min(training_df.game_date)"
   ]
  },
  {
   "cell_type": "code",
   "execution_count": 158,
   "metadata": {},
   "outputs": [
    {
     "data": {
      "text/plain": [
       "Timestamp('2020-01-05 00:00:00')"
      ]
     },
     "execution_count": 158,
     "metadata": {},
     "output_type": "execute_result"
    }
   ],
   "source": [
    "max(training_df.game_date)"
   ]
  },
  {
   "cell_type": "markdown",
   "metadata": {},
   "source": [
    "Training data goes from January 2014 to January 2020."
   ]
  },
  {
   "cell_type": "markdown",
   "metadata": {},
   "source": [
    "Keeping the game date and removing the other dates."
   ]
  },
  {
   "cell_type": "code",
   "execution_count": 159,
   "metadata": {},
   "outputs": [],
   "source": [
    "training_df.drop(['start_date', 'end_date'], inplace=True, axis=1)"
   ]
  },
  {
   "cell_type": "code",
   "execution_count": 160,
   "metadata": {},
   "outputs": [
    {
     "data": {
      "text/html": [
       "<div>\n",
       "<style scoped>\n",
       "    .dataframe tbody tr th:only-of-type {\n",
       "        vertical-align: middle;\n",
       "    }\n",
       "\n",
       "    .dataframe tbody tr th {\n",
       "        vertical-align: top;\n",
       "    }\n",
       "\n",
       "    .dataframe thead th {\n",
       "        text-align: right;\n",
       "    }\n",
       "</style>\n",
       "<table border=\"1\" class=\"dataframe\">\n",
       "  <thead>\n",
       "    <tr style=\"text-align: right;\">\n",
       "      <th></th>\n",
       "      <th>time_control</th>\n",
       "      <th>white</th>\n",
       "      <th>black</th>\n",
       "      <th>game_date</th>\n",
       "      <th>result</th>\n",
       "      <th>id</th>\n",
       "      <th>game_year</th>\n",
       "    </tr>\n",
       "  </thead>\n",
       "  <tbody>\n",
       "    <tr>\n",
       "      <th>0</th>\n",
       "      <td>rapid</td>\n",
       "      <td>Li Huahong</td>\n",
       "      <td>Chen Sigang</td>\n",
       "      <td>2020-01-05</td>\n",
       "      <td>0.5</td>\n",
       "      <td>tournament_800_171</td>\n",
       "      <td>2020</td>\n",
       "    </tr>\n",
       "    <tr>\n",
       "      <th>0</th>\n",
       "      <td>rapid</td>\n",
       "      <td>Hu Qihong</td>\n",
       "      <td>Lin Hongli</td>\n",
       "      <td>2020-01-05</td>\n",
       "      <td>0.5</td>\n",
       "      <td>tournament_800_170</td>\n",
       "      <td>2020</td>\n",
       "    </tr>\n",
       "    <tr>\n",
       "      <th>0</th>\n",
       "      <td>rapid</td>\n",
       "      <td>Wang Jianmin</td>\n",
       "      <td>Liu Yaosheng</td>\n",
       "      <td>2020-01-05</td>\n",
       "      <td>0.0</td>\n",
       "      <td>tournament_800_169</td>\n",
       "      <td>2020</td>\n",
       "    </tr>\n",
       "    <tr>\n",
       "      <th>0</th>\n",
       "      <td>rapid</td>\n",
       "      <td>Lai Zhenen</td>\n",
       "      <td>Mao Xinlei</td>\n",
       "      <td>2020-01-05</td>\n",
       "      <td>0.5</td>\n",
       "      <td>tournament_800_180</td>\n",
       "      <td>2020</td>\n",
       "    </tr>\n",
       "    <tr>\n",
       "      <th>0</th>\n",
       "      <td>rapid</td>\n",
       "      <td>Jiang Ying</td>\n",
       "      <td>Liang Qing</td>\n",
       "      <td>2020-01-05</td>\n",
       "      <td>0.5</td>\n",
       "      <td>tournament_800_175</td>\n",
       "      <td>2020</td>\n",
       "    </tr>\n",
       "  </tbody>\n",
       "</table>\n",
       "</div>"
      ],
      "text/plain": [
       "  time_control         white         black  game_date  result  \\\n",
       "0        rapid    Li Huahong   Chen Sigang 2020-01-05     0.5   \n",
       "0        rapid     Hu Qihong    Lin Hongli 2020-01-05     0.5   \n",
       "0        rapid  Wang Jianmin  Liu Yaosheng 2020-01-05     0.0   \n",
       "0        rapid    Lai Zhenen    Mao Xinlei 2020-01-05     0.5   \n",
       "0        rapid    Jiang Ying    Liang Qing 2020-01-05     0.5   \n",
       "\n",
       "                   id  game_year  \n",
       "0  tournament_800_171       2020  \n",
       "0  tournament_800_170       2020  \n",
       "0  tournament_800_169       2020  \n",
       "0  tournament_800_180       2020  \n",
       "0  tournament_800_175       2020  "
      ]
     },
     "execution_count": 160,
     "metadata": {},
     "output_type": "execute_result"
    }
   ],
   "source": [
    "training_df.tail()"
   ]
  },
  {
   "cell_type": "markdown",
   "metadata": {},
   "source": [
    "# Analyzing games and results by year and game type"
   ]
  },
  {
   "cell_type": "markdown",
   "metadata": {},
   "source": [
    "In chess, the player with the white pieces gets to move first and therefore has a slight advantage. Let's analyze by year and by type of tournament."
   ]
  },
  {
   "cell_type": "code",
   "execution_count": 161,
   "metadata": {},
   "outputs": [],
   "source": [
    "training_df['game_year'] = training_df['game_date'].dt.year"
   ]
  },
  {
   "cell_type": "code",
   "execution_count": 162,
   "metadata": {},
   "outputs": [],
   "source": [
    "def get_winner(x):\n",
    "    if x == 1.0:\n",
    "        return 'white'\n",
    "    if x == 0.0:\n",
    "        return 'black'\n",
    "    return 'draw'\n",
    "training_df['winner'] = training_df['result'].apply(lambda x: get_winner(x))"
   ]
  },
  {
   "cell_type": "code",
   "execution_count": 163,
   "metadata": {},
   "outputs": [
    {
     "data": {
      "text/html": [
       "<div>\n",
       "<style scoped>\n",
       "    .dataframe tbody tr th:only-of-type {\n",
       "        vertical-align: middle;\n",
       "    }\n",
       "\n",
       "    .dataframe tbody tr th {\n",
       "        vertical-align: top;\n",
       "    }\n",
       "\n",
       "    .dataframe thead th {\n",
       "        text-align: right;\n",
       "    }\n",
       "</style>\n",
       "<table border=\"1\" class=\"dataframe\">\n",
       "  <thead>\n",
       "    <tr style=\"text-align: right;\">\n",
       "      <th></th>\n",
       "      <th>time_control</th>\n",
       "      <th>white</th>\n",
       "      <th>black</th>\n",
       "      <th>game_date</th>\n",
       "      <th>result</th>\n",
       "      <th>id</th>\n",
       "      <th>game_year</th>\n",
       "      <th>winner</th>\n",
       "    </tr>\n",
       "  </thead>\n",
       "  <tbody>\n",
       "    <tr>\n",
       "      <th>0</th>\n",
       "      <td>rapid</td>\n",
       "      <td>Li Huahong</td>\n",
       "      <td>Chen Sigang</td>\n",
       "      <td>2020-01-05</td>\n",
       "      <td>0.5</td>\n",
       "      <td>tournament_800_171</td>\n",
       "      <td>2020</td>\n",
       "      <td>draw</td>\n",
       "    </tr>\n",
       "    <tr>\n",
       "      <th>0</th>\n",
       "      <td>rapid</td>\n",
       "      <td>Hu Qihong</td>\n",
       "      <td>Lin Hongli</td>\n",
       "      <td>2020-01-05</td>\n",
       "      <td>0.5</td>\n",
       "      <td>tournament_800_170</td>\n",
       "      <td>2020</td>\n",
       "      <td>draw</td>\n",
       "    </tr>\n",
       "    <tr>\n",
       "      <th>0</th>\n",
       "      <td>rapid</td>\n",
       "      <td>Wang Jianmin</td>\n",
       "      <td>Liu Yaosheng</td>\n",
       "      <td>2020-01-05</td>\n",
       "      <td>0.0</td>\n",
       "      <td>tournament_800_169</td>\n",
       "      <td>2020</td>\n",
       "      <td>black</td>\n",
       "    </tr>\n",
       "    <tr>\n",
       "      <th>0</th>\n",
       "      <td>rapid</td>\n",
       "      <td>Lai Zhenen</td>\n",
       "      <td>Mao Xinlei</td>\n",
       "      <td>2020-01-05</td>\n",
       "      <td>0.5</td>\n",
       "      <td>tournament_800_180</td>\n",
       "      <td>2020</td>\n",
       "      <td>draw</td>\n",
       "    </tr>\n",
       "    <tr>\n",
       "      <th>0</th>\n",
       "      <td>rapid</td>\n",
       "      <td>Jiang Ying</td>\n",
       "      <td>Liang Qing</td>\n",
       "      <td>2020-01-05</td>\n",
       "      <td>0.5</td>\n",
       "      <td>tournament_800_175</td>\n",
       "      <td>2020</td>\n",
       "      <td>draw</td>\n",
       "    </tr>\n",
       "  </tbody>\n",
       "</table>\n",
       "</div>"
      ],
      "text/plain": [
       "  time_control         white         black  game_date  result  \\\n",
       "0        rapid    Li Huahong   Chen Sigang 2020-01-05     0.5   \n",
       "0        rapid     Hu Qihong    Lin Hongli 2020-01-05     0.5   \n",
       "0        rapid  Wang Jianmin  Liu Yaosheng 2020-01-05     0.0   \n",
       "0        rapid    Lai Zhenen    Mao Xinlei 2020-01-05     0.5   \n",
       "0        rapid    Jiang Ying    Liang Qing 2020-01-05     0.5   \n",
       "\n",
       "                   id  game_year winner  \n",
       "0  tournament_800_171       2020   draw  \n",
       "0  tournament_800_170       2020   draw  \n",
       "0  tournament_800_169       2020  black  \n",
       "0  tournament_800_180       2020   draw  \n",
       "0  tournament_800_175       2020   draw  "
      ]
     },
     "execution_count": 163,
     "metadata": {},
     "output_type": "execute_result"
    }
   ],
   "source": [
    "training_df.tail()"
   ]
  },
  {
   "cell_type": "code",
   "execution_count": 164,
   "metadata": {},
   "outputs": [
    {
     "data": {
      "text/html": [
       "<div>\n",
       "<style scoped>\n",
       "    .dataframe tbody tr th:only-of-type {\n",
       "        vertical-align: middle;\n",
       "    }\n",
       "\n",
       "    .dataframe tbody tr th {\n",
       "        vertical-align: top;\n",
       "    }\n",
       "\n",
       "    .dataframe thead th {\n",
       "        text-align: right;\n",
       "    }\n",
       "</style>\n",
       "<table border=\"1\" class=\"dataframe\">\n",
       "  <thead>\n",
       "    <tr style=\"text-align: right;\">\n",
       "      <th></th>\n",
       "      <th></th>\n",
       "      <th>count</th>\n",
       "    </tr>\n",
       "    <tr>\n",
       "      <th>game_year</th>\n",
       "      <th>time_control</th>\n",
       "      <th></th>\n",
       "    </tr>\n",
       "  </thead>\n",
       "  <tbody>\n",
       "    <tr>\n",
       "      <th rowspan=\"2\" valign=\"top\">2014</th>\n",
       "      <th>classic</th>\n",
       "      <td>10959</td>\n",
       "    </tr>\n",
       "    <tr>\n",
       "      <th>rapid</th>\n",
       "      <td>17054</td>\n",
       "    </tr>\n",
       "    <tr>\n",
       "      <th rowspan=\"2\" valign=\"top\">2015</th>\n",
       "      <th>classic</th>\n",
       "      <td>10183</td>\n",
       "    </tr>\n",
       "    <tr>\n",
       "      <th>rapid</th>\n",
       "      <td>15588</td>\n",
       "    </tr>\n",
       "    <tr>\n",
       "      <th rowspan=\"2\" valign=\"top\">2016</th>\n",
       "      <th>classic</th>\n",
       "      <td>9955</td>\n",
       "    </tr>\n",
       "    <tr>\n",
       "      <th>rapid</th>\n",
       "      <td>15390</td>\n",
       "    </tr>\n",
       "    <tr>\n",
       "      <th rowspan=\"2\" valign=\"top\">2017</th>\n",
       "      <th>classic</th>\n",
       "      <td>10316</td>\n",
       "    </tr>\n",
       "    <tr>\n",
       "      <th>rapid</th>\n",
       "      <td>15706</td>\n",
       "    </tr>\n",
       "    <tr>\n",
       "      <th rowspan=\"2\" valign=\"top\">2018</th>\n",
       "      <th>classic</th>\n",
       "      <td>13590</td>\n",
       "    </tr>\n",
       "    <tr>\n",
       "      <th>rapid</th>\n",
       "      <td>14865</td>\n",
       "    </tr>\n",
       "    <tr>\n",
       "      <th rowspan=\"2\" valign=\"top\">2019</th>\n",
       "      <th>classic</th>\n",
       "      <td>9929</td>\n",
       "    </tr>\n",
       "    <tr>\n",
       "      <th>rapid</th>\n",
       "      <td>15016</td>\n",
       "    </tr>\n",
       "    <tr>\n",
       "      <th>2020</th>\n",
       "      <th>rapid</th>\n",
       "      <td>105</td>\n",
       "    </tr>\n",
       "  </tbody>\n",
       "</table>\n",
       "</div>"
      ],
      "text/plain": [
       "                        count\n",
       "game_year time_control       \n",
       "2014      classic       10959\n",
       "          rapid         17054\n",
       "2015      classic       10183\n",
       "          rapid         15588\n",
       "2016      classic        9955\n",
       "          rapid         15390\n",
       "2017      classic       10316\n",
       "          rapid         15706\n",
       "2018      classic       13590\n",
       "          rapid         14865\n",
       "2019      classic        9929\n",
       "          rapid         15016\n",
       "2020      rapid           105"
      ]
     },
     "execution_count": 164,
     "metadata": {},
     "output_type": "execute_result"
    }
   ],
   "source": [
    "game_stats = training_df[['game_year','time_control']].groupby(by=['game_year', 'time_control']).time_control.agg(['count'])\n",
    "game_stats"
   ]
  },
  {
   "cell_type": "code",
   "execution_count": 165,
   "metadata": {},
   "outputs": [
    {
     "data": {
      "text/plain": [
       "rapid      0.590737\n",
       "classic    0.409263\n",
       "Name: time_control, dtype: float64"
      ]
     },
     "execution_count": 165,
     "metadata": {},
     "output_type": "execute_result"
    }
   ],
   "source": [
    "training_df.time_control.value_counts(normalize=True)"
   ]
  },
  {
   "cell_type": "markdown",
   "metadata": {},
   "source": [
    "There are more rapid games than classic games: almost 60% of the games are rapid."
   ]
  },
  {
   "cell_type": "code",
   "execution_count": 166,
   "metadata": {},
   "outputs": [
    {
     "data": {
      "text/html": [
       "<div>\n",
       "<style scoped>\n",
       "    .dataframe tbody tr th:only-of-type {\n",
       "        vertical-align: middle;\n",
       "    }\n",
       "\n",
       "    .dataframe tbody tr th {\n",
       "        vertical-align: top;\n",
       "    }\n",
       "\n",
       "    .dataframe thead th {\n",
       "        text-align: right;\n",
       "    }\n",
       "</style>\n",
       "<table border=\"1\" class=\"dataframe\">\n",
       "  <thead>\n",
       "    <tr style=\"text-align: right;\">\n",
       "      <th></th>\n",
       "      <th></th>\n",
       "      <th></th>\n",
       "      <th>count</th>\n",
       "    </tr>\n",
       "    <tr>\n",
       "      <th>game_year</th>\n",
       "      <th>time_control</th>\n",
       "      <th>winner</th>\n",
       "      <th></th>\n",
       "    </tr>\n",
       "  </thead>\n",
       "  <tbody>\n",
       "    <tr>\n",
       "      <th rowspan=\"6\" valign=\"top\">2014</th>\n",
       "      <th rowspan=\"3\" valign=\"top\">classic</th>\n",
       "      <th>black</th>\n",
       "      <td>2098</td>\n",
       "    </tr>\n",
       "    <tr>\n",
       "      <th>draw</th>\n",
       "      <td>5388</td>\n",
       "    </tr>\n",
       "    <tr>\n",
       "      <th>white</th>\n",
       "      <td>3473</td>\n",
       "    </tr>\n",
       "    <tr>\n",
       "      <th rowspan=\"3\" valign=\"top\">rapid</th>\n",
       "      <th>black</th>\n",
       "      <td>4130</td>\n",
       "    </tr>\n",
       "    <tr>\n",
       "      <th>draw</th>\n",
       "      <td>7025</td>\n",
       "    </tr>\n",
       "    <tr>\n",
       "      <th>white</th>\n",
       "      <td>5899</td>\n",
       "    </tr>\n",
       "    <tr>\n",
       "      <th rowspan=\"6\" valign=\"top\">2015</th>\n",
       "      <th rowspan=\"3\" valign=\"top\">classic</th>\n",
       "      <th>black</th>\n",
       "      <td>2194</td>\n",
       "    </tr>\n",
       "    <tr>\n",
       "      <th>draw</th>\n",
       "      <td>4554</td>\n",
       "    </tr>\n",
       "    <tr>\n",
       "      <th>white</th>\n",
       "      <td>3435</td>\n",
       "    </tr>\n",
       "    <tr>\n",
       "      <th rowspan=\"3\" valign=\"top\">rapid</th>\n",
       "      <th>black</th>\n",
       "      <td>4104</td>\n",
       "    </tr>\n",
       "    <tr>\n",
       "      <th>draw</th>\n",
       "      <td>5847</td>\n",
       "    </tr>\n",
       "    <tr>\n",
       "      <th>white</th>\n",
       "      <td>5637</td>\n",
       "    </tr>\n",
       "    <tr>\n",
       "      <th rowspan=\"6\" valign=\"top\">2016</th>\n",
       "      <th rowspan=\"3\" valign=\"top\">classic</th>\n",
       "      <th>black</th>\n",
       "      <td>2201</td>\n",
       "    </tr>\n",
       "    <tr>\n",
       "      <th>draw</th>\n",
       "      <td>4515</td>\n",
       "    </tr>\n",
       "    <tr>\n",
       "      <th>white</th>\n",
       "      <td>3239</td>\n",
       "    </tr>\n",
       "    <tr>\n",
       "      <th rowspan=\"3\" valign=\"top\">rapid</th>\n",
       "      <th>black</th>\n",
       "      <td>4271</td>\n",
       "    </tr>\n",
       "    <tr>\n",
       "      <th>draw</th>\n",
       "      <td>5457</td>\n",
       "    </tr>\n",
       "    <tr>\n",
       "      <th>white</th>\n",
       "      <td>5662</td>\n",
       "    </tr>\n",
       "    <tr>\n",
       "      <th rowspan=\"6\" valign=\"top\">2017</th>\n",
       "      <th rowspan=\"3\" valign=\"top\">classic</th>\n",
       "      <th>black</th>\n",
       "      <td>2479</td>\n",
       "    </tr>\n",
       "    <tr>\n",
       "      <th>draw</th>\n",
       "      <td>4331</td>\n",
       "    </tr>\n",
       "    <tr>\n",
       "      <th>white</th>\n",
       "      <td>3506</td>\n",
       "    </tr>\n",
       "    <tr>\n",
       "      <th rowspan=\"3\" valign=\"top\">rapid</th>\n",
       "      <th>black</th>\n",
       "      <td>4578</td>\n",
       "    </tr>\n",
       "    <tr>\n",
       "      <th>draw</th>\n",
       "      <td>5263</td>\n",
       "    </tr>\n",
       "    <tr>\n",
       "      <th>white</th>\n",
       "      <td>5865</td>\n",
       "    </tr>\n",
       "    <tr>\n",
       "      <th rowspan=\"6\" valign=\"top\">2018</th>\n",
       "      <th rowspan=\"3\" valign=\"top\">classic</th>\n",
       "      <th>black</th>\n",
       "      <td>3304</td>\n",
       "    </tr>\n",
       "    <tr>\n",
       "      <th>draw</th>\n",
       "      <td>5696</td>\n",
       "    </tr>\n",
       "    <tr>\n",
       "      <th>white</th>\n",
       "      <td>4590</td>\n",
       "    </tr>\n",
       "    <tr>\n",
       "      <th rowspan=\"3\" valign=\"top\">rapid</th>\n",
       "      <th>black</th>\n",
       "      <td>4478</td>\n",
       "    </tr>\n",
       "    <tr>\n",
       "      <th>draw</th>\n",
       "      <td>4739</td>\n",
       "    </tr>\n",
       "    <tr>\n",
       "      <th>white</th>\n",
       "      <td>5648</td>\n",
       "    </tr>\n",
       "    <tr>\n",
       "      <th rowspan=\"6\" valign=\"top\">2019</th>\n",
       "      <th rowspan=\"3\" valign=\"top\">classic</th>\n",
       "      <th>black</th>\n",
       "      <td>2374</td>\n",
       "    </tr>\n",
       "    <tr>\n",
       "      <th>draw</th>\n",
       "      <td>4148</td>\n",
       "    </tr>\n",
       "    <tr>\n",
       "      <th>white</th>\n",
       "      <td>3407</td>\n",
       "    </tr>\n",
       "    <tr>\n",
       "      <th rowspan=\"3\" valign=\"top\">rapid</th>\n",
       "      <th>black</th>\n",
       "      <td>4635</td>\n",
       "    </tr>\n",
       "    <tr>\n",
       "      <th>draw</th>\n",
       "      <td>4581</td>\n",
       "    </tr>\n",
       "    <tr>\n",
       "      <th>white</th>\n",
       "      <td>5800</td>\n",
       "    </tr>\n",
       "    <tr>\n",
       "      <th rowspan=\"3\" valign=\"top\">2020</th>\n",
       "      <th rowspan=\"3\" valign=\"top\">rapid</th>\n",
       "      <th>black</th>\n",
       "      <td>33</td>\n",
       "    </tr>\n",
       "    <tr>\n",
       "      <th>draw</th>\n",
       "      <td>35</td>\n",
       "    </tr>\n",
       "    <tr>\n",
       "      <th>white</th>\n",
       "      <td>37</td>\n",
       "    </tr>\n",
       "  </tbody>\n",
       "</table>\n",
       "</div>"
      ],
      "text/plain": [
       "                               count\n",
       "game_year time_control winner       \n",
       "2014      classic      black    2098\n",
       "                       draw     5388\n",
       "                       white    3473\n",
       "          rapid        black    4130\n",
       "                       draw     7025\n",
       "                       white    5899\n",
       "2015      classic      black    2194\n",
       "                       draw     4554\n",
       "                       white    3435\n",
       "          rapid        black    4104\n",
       "                       draw     5847\n",
       "                       white    5637\n",
       "2016      classic      black    2201\n",
       "                       draw     4515\n",
       "                       white    3239\n",
       "          rapid        black    4271\n",
       "                       draw     5457\n",
       "                       white    5662\n",
       "2017      classic      black    2479\n",
       "                       draw     4331\n",
       "                       white    3506\n",
       "          rapid        black    4578\n",
       "                       draw     5263\n",
       "                       white    5865\n",
       "2018      classic      black    3304\n",
       "                       draw     5696\n",
       "                       white    4590\n",
       "          rapid        black    4478\n",
       "                       draw     4739\n",
       "                       white    5648\n",
       "2019      classic      black    2374\n",
       "                       draw     4148\n",
       "                       white    3407\n",
       "          rapid        black    4635\n",
       "                       draw     4581\n",
       "                       white    5800\n",
       "2020      rapid        black      33\n",
       "                       draw       35\n",
       "                       white      37"
      ]
     },
     "execution_count": 166,
     "metadata": {},
     "output_type": "execute_result"
    }
   ],
   "source": [
    "winner_stats = training_df[['game_year','time_control', 'winner']].groupby(by=['game_year', 'time_control','winner']).winner.agg(['count'])\n",
    "winner_stats"
   ]
  },
  {
   "cell_type": "markdown",
   "metadata": {},
   "source": [
    "In most of the cases the most frequent result is 'draw', however we notice the slightly higher number of cases where the 'white' player wins. In particular for rapid games this advantage is more notorious probably because of the shorter duration of the game."
   ]
  },
  {
   "cell_type": "markdown",
   "metadata": {},
   "source": [
    "We can show visually this in the following graph."
   ]
  },
  {
   "cell_type": "code",
   "execution_count": 167,
   "metadata": {},
   "outputs": [],
   "source": [
    "winner_stats = winner_stats.reset_index()"
   ]
  },
  {
   "cell_type": "code",
   "execution_count": 168,
   "metadata": {},
   "outputs": [
    {
     "data": {
      "text/plain": [
       "<seaborn.axisgrid.FacetGrid at 0x287036169e0>"
      ]
     },
     "execution_count": 168,
     "metadata": {},
     "output_type": "execute_result"
    },
    {
     "data": {
      "image/png": "[encoded data removed]",
      "text/plain": [
       "<Figure size 1764x504 with 14 Axes>"
      ]
     },
     "metadata": {},
     "output_type": "display_data"
    }
   ],
   "source": [
    "g = sns.FacetGrid(winner_stats, col=\"game_year\",  row=\"time_control\", height=3.5)\n",
    "g.map_dataframe(sns.barplot, x=\"count\", y='winner')"
   ]
  },
  {
   "cell_type": "markdown",
   "metadata": {},
   "source": [
    "The first row is for the classic games and the second row for the rapid games, where we can identify, specially for more recent years that white players tend to win more often."
   ]
  },
  {
   "cell_type": "markdown",
   "metadata": {},
   "source": [
    "Finally the overall stats are:"
   ]
  },
  {
   "cell_type": "code",
   "execution_count": 169,
   "metadata": {},
   "outputs": [
    {
     "data": {
      "text/plain": [
       "draw     61579\n",
       "white    56198\n",
       "black    40879\n",
       "Name: winner, dtype: int64"
      ]
     },
     "execution_count": 169,
     "metadata": {},
     "output_type": "execute_result"
    }
   ],
   "source": [
    "training_df.winner.value_counts()"
   ]
  },
  {
   "cell_type": "markdown",
   "metadata": {},
   "source": [
    "In percentages: 38.81% draw, 35.42% white and 25.76% black. Let's compare for each type of game."
   ]
  },
  {
   "cell_type": "code",
   "execution_count": 170,
   "metadata": {},
   "outputs": [
    {
     "data": {
      "text/plain": [
       "draw     28632\n",
       "white    21650\n",
       "black    14650\n",
       "Name: winner, dtype: int64"
      ]
     },
     "execution_count": 170,
     "metadata": {},
     "output_type": "execute_result"
    }
   ],
   "source": [
    "training_df.loc[training_df['time_control']=='classic'].winner.value_counts()"
   ]
  },
  {
   "cell_type": "markdown",
   "metadata": {},
   "source": [
    "From a total of 64932 classic games: 44.09% draw, 33.34% white and 22.56% black."
   ]
  },
  {
   "cell_type": "code",
   "execution_count": 171,
   "metadata": {},
   "outputs": [
    {
     "data": {
      "text/plain": [
       "white    34548\n",
       "draw     32947\n",
       "black    26229\n",
       "Name: winner, dtype: int64"
      ]
     },
     "execution_count": 171,
     "metadata": {},
     "output_type": "execute_result"
    }
   ],
   "source": [
    "training_df.loc[training_df['time_control']=='rapid'].winner.value_counts()"
   ]
  },
  {
   "cell_type": "markdown",
   "metadata": {},
   "source": [
    "From a total of 93724 rapic games: 36.86% white, 35.15% draw and 27.98% black."
   ]
  },
  {
   "cell_type": "markdown",
   "metadata": {},
   "source": [
    "## Defining draw probability ranges based on the winning probability of a player\n",
    "Based on these percentages we are going to propose these draw probability ranges when predicting the result of a game:\n",
    "\n",
    "\n",
    "Draw probability range of a player for classic:\n",
    "[0.40, 0.65]\n",
    "\n",
    "Draw probability range of a player  for rapid:\n",
    "[0.45, 0.55]"
   ]
  },
  {
   "cell_type": "markdown",
   "metadata": {},
   "source": [
    "## Analyzing players"
   ]
  },
  {
   "cell_type": "code",
   "execution_count": 172,
   "metadata": {},
   "outputs": [],
   "source": [
    "training_df['white'] = training_df['white'].astype(\"category\")\n",
    "training_df['black'] = training_df['black'].astype(\"category\")"
   ]
  },
  {
   "cell_type": "code",
   "execution_count": 173,
   "metadata": {},
   "outputs": [
    {
     "data": {
      "text/plain": [
       "count        158656\n",
       "unique          562\n",
       "top       Zhang Yan\n",
       "freq            949\n",
       "Name: white, dtype: object"
      ]
     },
     "execution_count": 173,
     "metadata": {},
     "output_type": "execute_result"
    }
   ],
   "source": [
    "training_df['white'].describe()"
   ]
  },
  {
   "cell_type": "code",
   "execution_count": 174,
   "metadata": {},
   "outputs": [
    {
     "data": {
      "text/plain": [
       "count        158656\n",
       "unique          562\n",
       "top       Zhang Yan\n",
       "freq            958\n",
       "Name: black, dtype: object"
      ]
     },
     "execution_count": 174,
     "metadata": {},
     "output_type": "execute_result"
    }
   ],
   "source": [
    "training_df['black'].describe()"
   ]
  },
  {
   "cell_type": "markdown",
   "metadata": {},
   "source": [
    "The most active player in the last years is Zhang Yan. The total number of unique players is the same for both figures: 562, but let's just create our pool of players from both groups to confirm the total number of chess players we are going to process."
   ]
  },
  {
   "cell_type": "code",
   "execution_count": 175,
   "metadata": {},
   "outputs": [
    {
     "data": {
      "text/plain": [
       "562"
      ]
     },
     "execution_count": 175,
     "metadata": {},
     "output_type": "execute_result"
    }
   ],
   "source": [
    "players_pool = list(training_df['white'].unique())\n",
    "len(players_pool)"
   ]
  },
  {
   "cell_type": "code",
   "execution_count": 176,
   "metadata": {},
   "outputs": [
    {
     "data": {
      "text/plain": [
       "1124"
      ]
     },
     "execution_count": 176,
     "metadata": {},
     "output_type": "execute_result"
    }
   ],
   "source": [
    "players_pool.extend(list(training_df['black'].unique()))\n",
    "len(players_pool)"
   ]
  },
  {
   "cell_type": "code",
   "execution_count": 177,
   "metadata": {},
   "outputs": [
    {
     "data": {
      "text/plain": [
       "562"
      ]
     },
     "execution_count": 177,
     "metadata": {},
     "output_type": "execute_result"
    }
   ],
   "source": [
    "players_pool = list(set(players_pool))\n",
    "len(players_pool)"
   ]
  },
  {
   "cell_type": "code",
   "execution_count": 178,
   "metadata": {},
   "outputs": [
    {
     "data": {
      "text/plain": [
       "Zhang Yan        0.005981\n",
       "Qin Zhi          0.003845\n",
       "Li Yan           0.003410\n",
       "Fu Sheng         0.002427\n",
       "Feng Erchun      0.002389\n",
       "                   ...   \n",
       "Sun Shengyang    0.000372\n",
       "Xie Guan         0.000359\n",
       "Xiao Yeliang     0.000321\n",
       "Hong Xuequan     0.000290\n",
       "Xu Yi            0.000271\n",
       "Name: white, Length: 562, dtype: float64"
      ]
     },
     "execution_count": 178,
     "metadata": {},
     "output_type": "execute_result"
    }
   ],
   "source": [
    "# in percentages\n",
    "training_df['white'].value_counts(normalize =True)"
   ]
  },
  {
   "cell_type": "code",
   "execution_count": 179,
   "metadata": {},
   "outputs": [
    {
     "data": {
      "text/html": [
       "<div>\n",
       "<style scoped>\n",
       "    .dataframe tbody tr th:only-of-type {\n",
       "        vertical-align: middle;\n",
       "    }\n",
       "\n",
       "    .dataframe tbody tr th {\n",
       "        vertical-align: top;\n",
       "    }\n",
       "\n",
       "    .dataframe thead th {\n",
       "        text-align: right;\n",
       "    }\n",
       "</style>\n",
       "<table border=\"1\" class=\"dataframe\">\n",
       "  <thead>\n",
       "    <tr style=\"text-align: right;\">\n",
       "      <th></th>\n",
       "      <th>white</th>\n",
       "      <th>result</th>\n",
       "      <th>count</th>\n",
       "    </tr>\n",
       "  </thead>\n",
       "  <tbody>\n",
       "    <tr>\n",
       "      <th>0</th>\n",
       "      <td>Bai Xiaoan</td>\n",
       "      <td>0.0</td>\n",
       "      <td>107</td>\n",
       "    </tr>\n",
       "    <tr>\n",
       "      <th>1</th>\n",
       "      <td>Bai Xiaoan</td>\n",
       "      <td>0.5</td>\n",
       "      <td>104</td>\n",
       "    </tr>\n",
       "    <tr>\n",
       "      <th>2</th>\n",
       "      <td>Bai Xiaoan</td>\n",
       "      <td>1.0</td>\n",
       "      <td>60</td>\n",
       "    </tr>\n",
       "    <tr>\n",
       "      <th>3</th>\n",
       "      <td>Bai Zhuoqiong</td>\n",
       "      <td>0.0</td>\n",
       "      <td>90</td>\n",
       "    </tr>\n",
       "    <tr>\n",
       "      <th>4</th>\n",
       "      <td>Bai Zhuoqiong</td>\n",
       "      <td>0.5</td>\n",
       "      <td>138</td>\n",
       "    </tr>\n",
       "  </tbody>\n",
       "</table>\n",
       "</div>"
      ],
      "text/plain": [
       "           white  result  count\n",
       "0     Bai Xiaoan     0.0    107\n",
       "1     Bai Xiaoan     0.5    104\n",
       "2     Bai Xiaoan     1.0     60\n",
       "3  Bai Zhuoqiong     0.0     90\n",
       "4  Bai Zhuoqiong     0.5    138"
      ]
     },
     "execution_count": 179,
     "metadata": {},
     "output_type": "execute_result"
    }
   ],
   "source": [
    "player_stats = training_df[['white','result']].groupby(by=['white', 'result']).result.agg(['count']).reset_index()\n",
    "player_stats.head()"
   ]
  },
  {
   "cell_type": "markdown",
   "metadata": {},
   "source": [
    "For instance the player named Bai Xiaoan has played with white 271 times and won 60 times, then in 104 games he got draw and lost 107 times to the black player."
   ]
  },
  {
   "cell_type": "code",
   "execution_count": 180,
   "metadata": {},
   "outputs": [
    {
     "data": {
      "text/html": [
       "<div>\n",
       "<style scoped>\n",
       "    .dataframe tbody tr th:only-of-type {\n",
       "        vertical-align: middle;\n",
       "    }\n",
       "\n",
       "    .dataframe tbody tr th {\n",
       "        vertical-align: top;\n",
       "    }\n",
       "\n",
       "    .dataframe thead th {\n",
       "        text-align: right;\n",
       "    }\n",
       "</style>\n",
       "<table border=\"1\" class=\"dataframe\">\n",
       "  <thead>\n",
       "    <tr style=\"text-align: right;\">\n",
       "      <th></th>\n",
       "      <th>black</th>\n",
       "      <th>result</th>\n",
       "      <th>count</th>\n",
       "    </tr>\n",
       "  </thead>\n",
       "  <tbody>\n",
       "    <tr>\n",
       "      <th>0</th>\n",
       "      <td>Bai Xiaoan</td>\n",
       "      <td>0.0</td>\n",
       "      <td>30</td>\n",
       "    </tr>\n",
       "    <tr>\n",
       "      <th>1</th>\n",
       "      <td>Bai Xiaoan</td>\n",
       "      <td>0.5</td>\n",
       "      <td>92</td>\n",
       "    </tr>\n",
       "    <tr>\n",
       "      <th>2</th>\n",
       "      <td>Bai Xiaoan</td>\n",
       "      <td>1.0</td>\n",
       "      <td>145</td>\n",
       "    </tr>\n",
       "    <tr>\n",
       "      <th>3</th>\n",
       "      <td>Bai Zhuoqiong</td>\n",
       "      <td>0.0</td>\n",
       "      <td>76</td>\n",
       "    </tr>\n",
       "    <tr>\n",
       "      <th>4</th>\n",
       "      <td>Bai Zhuoqiong</td>\n",
       "      <td>0.5</td>\n",
       "      <td>139</td>\n",
       "    </tr>\n",
       "  </tbody>\n",
       "</table>\n",
       "</div>"
      ],
      "text/plain": [
       "           black  result  count\n",
       "0     Bai Xiaoan     0.0     30\n",
       "1     Bai Xiaoan     0.5     92\n",
       "2     Bai Xiaoan     1.0    145\n",
       "3  Bai Zhuoqiong     0.0     76\n",
       "4  Bai Zhuoqiong     0.5    139"
      ]
     },
     "execution_count": 180,
     "metadata": {},
     "output_type": "execute_result"
    }
   ],
   "source": [
    "player_stats = training_df[['black','result']].groupby(by=['black', 'result']).result.agg(['count']).reset_index()\n",
    "player_stats.head()"
   ]
  },
  {
   "cell_type": "markdown",
   "metadata": {},
   "source": [
    "The same player Bai Xiaoan has played 267 times with black and won 30 games, in 92 games he got draw and lost 145 times to the white player."
   ]
  },
  {
   "cell_type": "markdown",
   "metadata": {},
   "source": [
    "## Initial Ratings for players in 2014"
   ]
  },
  {
   "cell_type": "code",
   "execution_count": 181,
   "metadata": {},
   "outputs": [],
   "source": [
    "ratings_2014 = dict()\n",
    "try:\n",
    "    with open('../data/io/rating_2014.txt',encoding=\"utf-8\") as f:\n",
    "        for line in f.readlines():\n",
    "            line = line.rstrip()\n",
    "            line = line.lstrip()\n",
    "            # remove commas\n",
    "            line = line.replace(\",\",\"\")\n",
    "            line = line.replace('\\t',' ')\n",
    "            words = line.split(\" \")\n",
    "            name = words[0] + ' ' + words[1]\n",
    "            if 'ü' in name:\n",
    "                name = name.replace('ü', 'u')\n",
    "            rating = words[2]\n",
    "            ratings_2014[name] = int(rating)\n",
    "except Exception as e:\n",
    "    print(e)\n",
    "finally:\n",
    "    f.close()"
   ]
  },
  {
   "cell_type": "code",
   "execution_count": 182,
   "metadata": {},
   "outputs": [
    {
     "data": {
      "text/plain": [
       "200"
      ]
     },
     "execution_count": 182,
     "metadata": {},
     "output_type": "execute_result"
    }
   ],
   "source": [
    "len(ratings_2014.keys())"
   ]
  },
  {
   "cell_type": "markdown",
   "metadata": {},
   "source": [
    "We have only the initial ratings of 200 players but in the year 2014 let's see how many players do we have."
   ]
  },
  {
   "cell_type": "code",
   "execution_count": 183,
   "metadata": {},
   "outputs": [
    {
     "data": {
      "text/html": [
       "<div>\n",
       "<style scoped>\n",
       "    .dataframe tbody tr th:only-of-type {\n",
       "        vertical-align: middle;\n",
       "    }\n",
       "\n",
       "    .dataframe tbody tr th {\n",
       "        vertical-align: top;\n",
       "    }\n",
       "\n",
       "    .dataframe thead th {\n",
       "        text-align: right;\n",
       "    }\n",
       "</style>\n",
       "<table border=\"1\" class=\"dataframe\">\n",
       "  <thead>\n",
       "    <tr style=\"text-align: right;\">\n",
       "      <th></th>\n",
       "      <th>white</th>\n",
       "      <th>black</th>\n",
       "    </tr>\n",
       "  </thead>\n",
       "  <tbody>\n",
       "    <tr>\n",
       "      <th>0</th>\n",
       "      <td>Jia Xiezhen</td>\n",
       "      <td>Fan Chenni</td>\n",
       "    </tr>\n",
       "    <tr>\n",
       "      <th>0</th>\n",
       "      <td>Xu Gui</td>\n",
       "      <td>Wu Haifang</td>\n",
       "    </tr>\n",
       "    <tr>\n",
       "      <th>0</th>\n",
       "      <td>Gao Changxia</td>\n",
       "      <td>Zhao Zhenyuan</td>\n",
       "    </tr>\n",
       "    <tr>\n",
       "      <th>0</th>\n",
       "      <td>Chen Jianqin</td>\n",
       "      <td>Lin Yuanhao</td>\n",
       "    </tr>\n",
       "    <tr>\n",
       "      <th>0</th>\n",
       "      <td>Chen Fanqia</td>\n",
       "      <td>Li Yangyi</td>\n",
       "    </tr>\n",
       "  </tbody>\n",
       "</table>\n",
       "</div>"
      ],
      "text/plain": [
       "          white          black\n",
       "0   Jia Xiezhen     Fan Chenni\n",
       "0        Xu Gui     Wu Haifang\n",
       "0  Gao Changxia  Zhao Zhenyuan\n",
       "0  Chen Jianqin    Lin Yuanhao\n",
       "0   Chen Fanqia      Li Yangyi"
      ]
     },
     "execution_count": 183,
     "metadata": {},
     "output_type": "execute_result"
    }
   ],
   "source": [
    "players_2014 = training_df.loc[training_df['game_year']==2014,['white', 'black']]\n",
    "players_2014.head()"
   ]
  },
  {
   "cell_type": "code",
   "execution_count": 184,
   "metadata": {},
   "outputs": [],
   "source": [
    "w_players = players_2014.white.unique()\n",
    "b_players = players_2014.black.unique()"
   ]
  },
  {
   "cell_type": "code",
   "execution_count": 185,
   "metadata": {},
   "outputs": [
    {
     "data": {
      "text/plain": [
       "562"
      ]
     },
     "execution_count": 185,
     "metadata": {},
     "output_type": "execute_result"
    }
   ],
   "source": [
    "len(w_players)"
   ]
  },
  {
   "cell_type": "markdown",
   "metadata": {},
   "source": [
    "The total number of players at year 2014 is 562."
   ]
  },
  {
   "cell_type": "code",
   "execution_count": 186,
   "metadata": {},
   "outputs": [],
   "source": [
    "rating_players = list(ratings_2014.keys())"
   ]
  },
  {
   "cell_type": "code",
   "execution_count": 187,
   "metadata": {},
   "outputs": [],
   "source": [
    "w_found = [1 if player in rating_players else 0 for player in w_players]"
   ]
  },
  {
   "cell_type": "code",
   "execution_count": 188,
   "metadata": {},
   "outputs": [
    {
     "data": {
      "text/plain": [
       "200"
      ]
     },
     "execution_count": 188,
     "metadata": {},
     "output_type": "execute_result"
    }
   ],
   "source": [
    "sum(w_found)"
   ]
  },
  {
   "cell_type": "code",
   "execution_count": 132,
   "metadata": {},
   "outputs": [],
   "source": [
    "b_found = [1 if player in rating_players else 0 for player in b_players]"
   ]
  },
  {
   "cell_type": "code",
   "execution_count": 133,
   "metadata": {},
   "outputs": [
    {
     "data": {
      "text/plain": [
       "198"
      ]
     },
     "execution_count": 133,
     "metadata": {},
     "output_type": "execute_result"
    }
   ],
   "source": [
    "sum(b_found)"
   ]
  },
  {
   "cell_type": "markdown",
   "metadata": {},
   "source": [
    "However there are only 198 players with ratings in the provided list. Thus we need to find an initial rating for those who are not at the top players."
   ]
  },
  {
   "cell_type": "markdown",
   "metadata": {},
   "source": [
    "## Is there any public API to get Elo ratings?"
   ]
  },
  {
   "cell_type": "markdown",
   "metadata": {},
   "source": [
    "We found a chess api wrapper and a library in Python but just for chess players of this website:\n",
    "\n",
    "https://www.chess.com/news/view/published-data-api#pubapi-endpoint-player-stats\n",
    "\n",
    "https://pypi.org/project/chess.com/\n",
    "\n",
    "https://www.npmjs.com/package/chess-web-api#getleaderboardsoptions-callback\n",
    "\n",
    "Besides nn Chess.com, they use a modified version of the Elo system called the Glicko system, which takes more variables into consideration to determine a player's rating.\n"
   ]
  },
  {
   "cell_type": "markdown",
   "metadata": {},
   "source": [
    "## What FIDE says\n",
    "We also tried the official FIDE website, but there is no data before 2015.\n",
    "\n",
    "https://ratings.fide.com/download_lists.phtml\n",
    "\n",
    "There are some indications for ratings of new players however we lack information to complete those requirements:\n",
    "* \"determining the average rating of the competition\" for an initial rating is not possible because we do not have that data.\n",
    "* \"In a Swiss or Team tournament: this is simply the average rating of his rated opponents\" is not possible because there are many opponents with no ratings.\n",
    "\n",
    "Then we will have to assign an initial rating to un-rated players. These ratings will be merely the performance in the first tournaments.\n",
    "We will use for new players the starting Elo rating of 1000. "
   ]
  },
  {
   "cell_type": "markdown",
   "metadata": {},
   "source": [
    "# Classic versus rapid games\n",
    "Ideally we would like to compute two separate ratings, one for classic games and one for rapid games because one player can be better in one modality than the other. However only one type of initial ratings were given. "
   ]
  },
  {
   "cell_type": "markdown",
   "metadata": {},
   "source": [
    "# Summary\n",
    "After this exploration we were able to design a draw probability range for each type of game. We also discovered that we need some initial rating in 2014 for those players that are not in the initial ratings list. In the literature they say one good approximation is to start with 1000. Finally we though about designing a logic that keeps one rating for classic games and another for rapid games, because the player profile in each time could be different."
   ]
  },
  {
   "cell_type": "code",
   "execution_count": null,
   "metadata": {},
   "outputs": [],
   "source": []
  }
 ],
 "metadata": {
  "kernelspec": {
   "display_name": "Python 3",
   "language": "python",
   "name": "python3"
  },
  "language_info": {
   "codemirror_mode": {
    "name": "ipython",
    "version": 3
   },
   "file_extension": ".py",
   "mimetype": "text/x-python",
   "name": "python",
   "nbconvert_exporter": "python",
   "pygments_lexer": "ipython3",
   "version": "3.7.7"
  }
 },
 "nbformat": 4,
 "nbformat_minor": 4
}
