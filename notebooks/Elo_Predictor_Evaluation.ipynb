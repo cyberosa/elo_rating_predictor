{
 "cells": [
  {
   "cell_type": "code",
   "execution_count": 1,
   "metadata": {},
   "outputs": [],
   "source": [
    "import pandas as pd\n",
    "import seaborn as sns"
   ]
  },
  {
   "cell_type": "markdown",
   "metadata": {},
   "source": [
    "# Evaluation data"
   ]
  },
  {
   "cell_type": "markdown",
   "metadata": {},
   "source": [
    "We have taken some training data to evaluate how well we are predicting games. Due to the nature of the elo rating system, it makes sense to take the latest games using the most up to date rating we are able to compute with the training data. Then we took all training data from 2020 but the 105 games are all rapid games, so we took the last 105 classic games from 2019 as well. All these games are included in the /data/eval folder as separate json files."
   ]
  },
  {
   "cell_type": "markdown",
   "metadata": {},
   "source": [
    "The option to give the evaluation data as a dataframe (eval_df) is also possible by putting the pickle file of the dataframe in a folder named /data/io. This file is also automatically generated when parsing the training data and splitting it for evaluation."
   ]
  },
  {
   "cell_type": "markdown",
   "metadata": {},
   "source": [
    "# Predictors\n",
    "We will use four different approaches to compute the ratings as explained in the project approach."
   ]
  },
  {
   "cell_type": "markdown",
   "metadata": {},
   "source": [
    "# Predictor v1"
   ]
  },
  {
   "cell_type": "markdown",
   "metadata": {},
   "source": [
    "Number of correct predictions = 107 from 210\n",
    "Accuracy = 50.95238095238095\n"
   ]
  },
  {
   "cell_type": "code",
   "execution_count": 37,
   "metadata": {},
   "outputs": [],
   "source": [
    "predictions = pd.read_pickle(\"../data/predictions/predictor_v1_val\")\n",
    "c_predictions = predictions.loc[predictions['time_control'] == 'classic']\n",
    "r_predictions = predictions.loc[predictions['time_control'] == 'rapid']"
   ]
  },
  {
   "cell_type": "code",
   "execution_count": 38,
   "metadata": {},
   "outputs": [
    {
     "data": {
      "text/html": [
       "<div>\n",
       "<style scoped>\n",
       "    .dataframe tbody tr th:only-of-type {\n",
       "        vertical-align: middle;\n",
       "    }\n",
       "\n",
       "    .dataframe tbody tr th {\n",
       "        vertical-align: top;\n",
       "    }\n",
       "\n",
       "    .dataframe thead th {\n",
       "        text-align: right;\n",
       "    }\n",
       "</style>\n",
       "<table border=\"1\" class=\"dataframe\">\n",
       "  <thead>\n",
       "    <tr style=\"text-align: right;\">\n",
       "      <th></th>\n",
       "      <th>game_date</th>\n",
       "      <th>probability</th>\n",
       "      <th>white_prob</th>\n",
       "      <th>black_prob</th>\n",
       "      <th>predicted</th>\n",
       "      <th>actual</th>\n",
       "      <th>time_control</th>\n",
       "      <th>correct</th>\n",
       "    </tr>\n",
       "  </thead>\n",
       "  <tbody>\n",
       "    <tr>\n",
       "      <th>0</th>\n",
       "      <td>2019-12-28</td>\n",
       "      <td>0.508634</td>\n",
       "      <td>0.254181</td>\n",
       "      <td>0.246696</td>\n",
       "      <td>0.5</td>\n",
       "      <td>0.0</td>\n",
       "      <td>classic</td>\n",
       "      <td>False</td>\n",
       "    </tr>\n",
       "    <tr>\n",
       "      <th>1</th>\n",
       "      <td>2019-12-28</td>\n",
       "      <td>0.253087</td>\n",
       "      <td>0.270073</td>\n",
       "      <td>0.342246</td>\n",
       "      <td>0.0</td>\n",
       "      <td>0.5</td>\n",
       "      <td>classic</td>\n",
       "      <td>False</td>\n",
       "    </tr>\n",
       "    <tr>\n",
       "      <th>2</th>\n",
       "      <td>2019-12-28</td>\n",
       "      <td>0.543066</td>\n",
       "      <td>0.265957</td>\n",
       "      <td>0.299180</td>\n",
       "      <td>0.5</td>\n",
       "      <td>0.5</td>\n",
       "      <td>classic</td>\n",
       "      <td>True</td>\n",
       "    </tr>\n",
       "    <tr>\n",
       "      <th>3</th>\n",
       "      <td>2019-12-28</td>\n",
       "      <td>0.314940</td>\n",
       "      <td>0.218750</td>\n",
       "      <td>0.254630</td>\n",
       "      <td>0.0</td>\n",
       "      <td>0.0</td>\n",
       "      <td>classic</td>\n",
       "      <td>True</td>\n",
       "    </tr>\n",
       "    <tr>\n",
       "      <th>4</th>\n",
       "      <td>2019-12-28</td>\n",
       "      <td>0.276612</td>\n",
       "      <td>0.277419</td>\n",
       "      <td>0.268293</td>\n",
       "      <td>0.0</td>\n",
       "      <td>0.0</td>\n",
       "      <td>classic</td>\n",
       "      <td>True</td>\n",
       "    </tr>\n",
       "  </tbody>\n",
       "</table>\n",
       "</div>"
      ],
      "text/plain": [
       "   game_date  probability  white_prob  black_prob  predicted  actual  \\\n",
       "0 2019-12-28     0.508634    0.254181    0.246696        0.5     0.0   \n",
       "1 2019-12-28     0.253087    0.270073    0.342246        0.0     0.5   \n",
       "2 2019-12-28     0.543066    0.265957    0.299180        0.5     0.5   \n",
       "3 2019-12-28     0.314940    0.218750    0.254630        0.0     0.0   \n",
       "4 2019-12-28     0.276612    0.277419    0.268293        0.0     0.0   \n",
       "\n",
       "  time_control  correct  \n",
       "0      classic    False  \n",
       "1      classic    False  \n",
       "2      classic     True  \n",
       "3      classic     True  \n",
       "4      classic     True  "
      ]
     },
     "execution_count": 38,
     "metadata": {},
     "output_type": "execute_result"
    }
   ],
   "source": [
    "predictions.head()"
   ]
  },
  {
   "cell_type": "code",
   "execution_count": 39,
   "metadata": {},
   "outputs": [
    {
     "data": {
      "text/plain": [
       "50"
      ]
     },
     "execution_count": 39,
     "metadata": {},
     "output_type": "execute_result"
    }
   ],
   "source": [
    "c_predictions.correct.sum()"
   ]
  },
  {
   "cell_type": "code",
   "execution_count": 40,
   "metadata": {},
   "outputs": [
    {
     "data": {
      "text/plain": [
       "0.47619047619047616"
      ]
     },
     "execution_count": 40,
     "metadata": {},
     "output_type": "execute_result"
    }
   ],
   "source": [
    "50/105"
   ]
  },
  {
   "cell_type": "code",
   "execution_count": 41,
   "metadata": {},
   "outputs": [
    {
     "data": {
      "text/plain": [
       "57"
      ]
     },
     "execution_count": 41,
     "metadata": {},
     "output_type": "execute_result"
    }
   ],
   "source": [
    "r_predictions.correct.sum()"
   ]
  },
  {
   "cell_type": "code",
   "execution_count": 42,
   "metadata": {},
   "outputs": [
    {
     "data": {
      "text/plain": [
       "0.5428571428571428"
      ]
     },
     "execution_count": 42,
     "metadata": {},
     "output_type": "execute_result"
    }
   ],
   "source": [
    "57/105"
   ]
  },
  {
   "cell_type": "markdown",
   "metadata": {},
   "source": [
    "In summary we are better predicting rapid games rather than classic ones."
   ]
  },
  {
   "cell_type": "code",
   "execution_count": 43,
   "metadata": {},
   "outputs": [],
   "source": [
    "wrong_predictions = predictions.loc[predictions['correct'] == False]"
   ]
  },
  {
   "cell_type": "code",
   "execution_count": 44,
   "metadata": {},
   "outputs": [
    {
     "data": {
      "text/plain": [
       "<seaborn.axisgrid.FacetGrid at 0x19515608e20>"
      ]
     },
     "execution_count": 44,
     "metadata": {},
     "output_type": "execute_result"
    },
    {
     "data": {
      "image/png": "[encoded data removed]",
      "text/plain": [
       "<Figure size 1602.97x500 with 3 Axes>"
      ]
     },
     "metadata": {},
     "output_type": "display_data"
    }
   ],
   "source": [
    "sns.set(style=\"darkgrid\")\n",
    "sns.catplot(x=\"actual\", col=\"predicted\", col_wrap=3, hue='time_control', data=wrong_predictions, kind='count')"
   ]
  },
  {
   "cell_type": "markdown",
   "metadata": {},
   "source": [
    "We are predicting a lot of games that ended in draw as whether white (mistake more common in rapid games) or black won (mistake more common in classic games). Besides for classic games we are saying in many cases that the white player was going to win but it ended in draw. In conclusion our formula to predict draw needs some improvement."
   ]
  },
  {
   "cell_type": "markdown",
   "metadata": {},
   "source": [
    "# Predictor v2"
   ]
  },
  {
   "cell_type": "markdown",
   "metadata": {},
   "source": [
    "Number of correct predictions = 89 from 210\n",
    "Accuracy = 42.38095238095238"
   ]
  },
  {
   "cell_type": "markdown",
   "metadata": {},
   "source": [
    "We are not improving the results from Predictor v1, so we discard this predictor."
   ]
  },
  {
   "cell_type": "markdown",
   "metadata": {},
   "source": [
    "# Predictor v3"
   ]
  },
  {
   "cell_type": "markdown",
   "metadata": {},
   "source": [
    "Number of correct predictions = 107 from 210\n",
    "Accuracy = 50.95238095238095\n"
   ]
  },
  {
   "cell_type": "code",
   "execution_count": 45,
   "metadata": {},
   "outputs": [],
   "source": [
    "predictions = pd.read_pickle(\"../data/predictions/predictor_v3_val\")\n",
    "c_predictions = predictions.loc[predictions['time_control'] == 'classic']\n",
    "r_predictions = predictions.loc[predictions['time_control'] == 'rapid']"
   ]
  },
  {
   "cell_type": "code",
   "execution_count": 46,
   "metadata": {},
   "outputs": [
    {
     "data": {
      "text/html": [
       "<div>\n",
       "<style scoped>\n",
       "    .dataframe tbody tr th:only-of-type {\n",
       "        vertical-align: middle;\n",
       "    }\n",
       "\n",
       "    .dataframe tbody tr th {\n",
       "        vertical-align: top;\n",
       "    }\n",
       "\n",
       "    .dataframe thead th {\n",
       "        text-align: right;\n",
       "    }\n",
       "</style>\n",
       "<table border=\"1\" class=\"dataframe\">\n",
       "  <thead>\n",
       "    <tr style=\"text-align: right;\">\n",
       "      <th></th>\n",
       "      <th>game_date</th>\n",
       "      <th>probability</th>\n",
       "      <th>white_prob</th>\n",
       "      <th>black_prob</th>\n",
       "      <th>predicted</th>\n",
       "      <th>actual</th>\n",
       "      <th>time_control</th>\n",
       "      <th>correct</th>\n",
       "    </tr>\n",
       "  </thead>\n",
       "  <tbody>\n",
       "    <tr>\n",
       "      <th>0</th>\n",
       "      <td>2019-12-28</td>\n",
       "      <td>0.267493</td>\n",
       "      <td>0.152709</td>\n",
       "      <td>0.178571</td>\n",
       "      <td>0.0</td>\n",
       "      <td>0.0</td>\n",
       "      <td>classic</td>\n",
       "      <td>True</td>\n",
       "    </tr>\n",
       "    <tr>\n",
       "      <th>1</th>\n",
       "      <td>2019-12-28</td>\n",
       "      <td>0.265243</td>\n",
       "      <td>0.189573</td>\n",
       "      <td>0.324658</td>\n",
       "      <td>0.0</td>\n",
       "      <td>0.5</td>\n",
       "      <td>classic</td>\n",
       "      <td>False</td>\n",
       "    </tr>\n",
       "    <tr>\n",
       "      <th>2</th>\n",
       "      <td>2019-12-28</td>\n",
       "      <td>0.395087</td>\n",
       "      <td>0.295886</td>\n",
       "      <td>0.343511</td>\n",
       "      <td>0.0</td>\n",
       "      <td>0.5</td>\n",
       "      <td>classic</td>\n",
       "      <td>False</td>\n",
       "    </tr>\n",
       "    <tr>\n",
       "      <th>3</th>\n",
       "      <td>2019-12-28</td>\n",
       "      <td>0.163957</td>\n",
       "      <td>0.210623</td>\n",
       "      <td>0.363478</td>\n",
       "      <td>0.0</td>\n",
       "      <td>0.0</td>\n",
       "      <td>classic</td>\n",
       "      <td>True</td>\n",
       "    </tr>\n",
       "    <tr>\n",
       "      <th>4</th>\n",
       "      <td>2019-12-28</td>\n",
       "      <td>0.319929</td>\n",
       "      <td>0.298507</td>\n",
       "      <td>0.382789</td>\n",
       "      <td>0.0</td>\n",
       "      <td>0.0</td>\n",
       "      <td>classic</td>\n",
       "      <td>True</td>\n",
       "    </tr>\n",
       "  </tbody>\n",
       "</table>\n",
       "</div>"
      ],
      "text/plain": [
       "   game_date  probability  white_prob  black_prob  predicted  actual  \\\n",
       "0 2019-12-28     0.267493    0.152709    0.178571        0.0     0.0   \n",
       "1 2019-12-28     0.265243    0.189573    0.324658        0.0     0.5   \n",
       "2 2019-12-28     0.395087    0.295886    0.343511        0.0     0.5   \n",
       "3 2019-12-28     0.163957    0.210623    0.363478        0.0     0.0   \n",
       "4 2019-12-28     0.319929    0.298507    0.382789        0.0     0.0   \n",
       "\n",
       "  time_control  correct  \n",
       "0      classic     True  \n",
       "1      classic    False  \n",
       "2      classic    False  \n",
       "3      classic     True  \n",
       "4      classic     True  "
      ]
     },
     "execution_count": 46,
     "metadata": {},
     "output_type": "execute_result"
    }
   ],
   "source": [
    "predictions.head()"
   ]
  },
  {
   "cell_type": "code",
   "execution_count": 47,
   "metadata": {},
   "outputs": [
    {
     "data": {
      "text/plain": [
       "50"
      ]
     },
     "execution_count": 47,
     "metadata": {},
     "output_type": "execute_result"
    }
   ],
   "source": [
    "c_predictions.correct.sum()"
   ]
  },
  {
   "cell_type": "code",
   "execution_count": 48,
   "metadata": {},
   "outputs": [
    {
     "data": {
      "text/plain": [
       "57"
      ]
     },
     "execution_count": 48,
     "metadata": {},
     "output_type": "execute_result"
    }
   ],
   "source": [
    "r_predictions.correct.sum()"
   ]
  },
  {
   "cell_type": "code",
   "execution_count": 49,
   "metadata": {},
   "outputs": [],
   "source": [
    "wrong_predictions = predictions.loc[predictions['correct'] == False]"
   ]
  },
  {
   "cell_type": "code",
   "execution_count": 50,
   "metadata": {},
   "outputs": [
    {
     "data": {
      "text/plain": [
       "<seaborn.axisgrid.FacetGrid at 0x1951560b880>"
      ]
     },
     "execution_count": 50,
     "metadata": {},
     "output_type": "execute_result"
    },
    {
     "data": {
      "image/png": "[encoded data removed]",
      "text/plain": [
       "<Figure size 1602.97x500 with 3 Axes>"
      ]
     },
     "metadata": {},
     "output_type": "display_data"
    }
   ],
   "source": [
    "sns.catplot(x=\"actual\", col=\"predicted\", col_wrap=3, hue='time_control', data=wrong_predictions, kind='count')"
   ]
  },
  {
   "cell_type": "markdown",
   "metadata": {},
   "source": [
    "The interpretation is that we are again missing draw cases where we are predicting that the black player is going to win (common for classic games) or the white one for rapid games."
   ]
  },
  {
   "cell_type": "markdown",
   "metadata": {},
   "source": [
    "# Predictor v4"
   ]
  },
  {
   "cell_type": "markdown",
   "metadata": {},
   "source": [
    "Number of correct predictions = 111 from 210\n",
    "Accuracy = 52.857142857142854"
   ]
  },
  {
   "cell_type": "code",
   "execution_count": 51,
   "metadata": {},
   "outputs": [],
   "source": [
    "predictions = pd.read_pickle(\"../data/predictions/predictor_v4_val\")\n",
    "c_predictions = predictions.loc[predictions['time_control'] == 'classic']\n",
    "r_predictions = predictions.loc[predictions['time_control'] == 'rapid']"
   ]
  },
  {
   "cell_type": "code",
   "execution_count": 52,
   "metadata": {},
   "outputs": [
    {
     "data": {
      "text/plain": [
       "54"
      ]
     },
     "execution_count": 52,
     "metadata": {},
     "output_type": "execute_result"
    }
   ],
   "source": [
    "c_predictions.correct.sum()"
   ]
  },
  {
   "cell_type": "code",
   "execution_count": 53,
   "metadata": {},
   "outputs": [
    {
     "data": {
      "text/plain": [
       "0.5142857142857142"
      ]
     },
     "execution_count": 53,
     "metadata": {},
     "output_type": "execute_result"
    }
   ],
   "source": [
    "54/105"
   ]
  },
  {
   "cell_type": "code",
   "execution_count": 54,
   "metadata": {},
   "outputs": [
    {
     "data": {
      "text/plain": [
       "57"
      ]
     },
     "execution_count": 54,
     "metadata": {},
     "output_type": "execute_result"
    }
   ],
   "source": [
    "r_predictions.correct.sum()"
   ]
  },
  {
   "cell_type": "code",
   "execution_count": 33,
   "metadata": {},
   "outputs": [
    {
     "data": {
      "text/plain": [
       "0.5428571428571428"
      ]
     },
     "execution_count": 33,
     "metadata": {},
     "output_type": "execute_result"
    }
   ],
   "source": [
    "57/105"
   ]
  },
  {
   "cell_type": "markdown",
   "metadata": {},
   "source": [
    "The same as before, we are better predicting rapid games rather than classic ones."
   ]
  },
  {
   "cell_type": "code",
   "execution_count": 55,
   "metadata": {},
   "outputs": [],
   "source": [
    "wrong_predictions = predictions.loc[predictions['correct'] == False]"
   ]
  },
  {
   "cell_type": "code",
   "execution_count": 56,
   "metadata": {},
   "outputs": [
    {
     "data": {
      "text/plain": [
       "<seaborn.axisgrid.FacetGrid at 0x195175229b0>"
      ]
     },
     "execution_count": 56,
     "metadata": {},
     "output_type": "execute_result"
    },
    {
     "data": {
      "image/png": "[encoded data removed]",
      "text/plain": [
       "<Figure size 1602.97x500 with 3 Axes>"
      ]
     },
     "metadata": {},
     "output_type": "display_data"
    }
   ],
   "source": [
    "sns.catplot(x=\"actual\", col=\"predicted\", col_wrap=3, hue='time_control', data=wrong_predictions, kind='count')"
   ]
  },
  {
   "cell_type": "markdown",
   "metadata": {},
   "source": [
    "The improvement with respect to predictor v3 is that we are saying more times that the game will be draw. Thus we increased also the number of errors predicting classic games as draw when indeed the white player won."
   ]
  },
  {
   "cell_type": "markdown",
   "metadata": {},
   "source": [
    "## Adjustment 1: give white player some advantage\n",
    "\n",
    "We can adjust the probability computation based not only in the difference of the elo ratings of the players but in different draw ranges for each type of game. Besides a common practice in prediction algorithms is to give a little advantage to the white player, because in chess the white player starts the game.\n",
    "Let's incorporate this little advantage on the formula of predictor v4:\n",
    "\n",
    "elo_rating_diff = white_rating - black_rating\n",
    "\n",
    "By adding some extra rating of 50:\n",
    "\n",
    "elo_rating_diff = white_rating + 50 - black_rating"
   ]
  },
  {
   "cell_type": "markdown",
   "metadata": {},
   "source": [
    "The results:\n",
    "\n",
    "Number of correct predictions = 109 from 210\n",
    "Accuracy = 51.904761904761905\n",
    "\n",
    "We decreased the accuracy to it did not worked this idea"
   ]
  },
  {
   "cell_type": "markdown",
   "metadata": {},
   "source": [
    "## Adjustment 2: Reduce a bit the draw probability range\n",
    "\n",
    "Current range for classic:\n",
    "[0.40, 0.65]\n",
    "\n",
    "Current range for rapid:\n",
    "[0.45, 0.55]\n",
    "\n",
    "New ranges:\n",
    "\n",
    "New range for classic:\n",
    "[0.40, 0.60]\n",
    "\n",
    "New range for rapid:\n",
    "[0.45, 0.53]"
   ]
  },
  {
   "cell_type": "markdown",
   "metadata": {},
   "source": [
    "The results:\n",
    "    \n",
    "Number of correct predictions = 104 from 210\n",
    "Accuracy = 49.523809523809526"
   ]
  },
  {
   "cell_type": "markdown",
   "metadata": {},
   "source": [
    "This adjustment did not work either. But let's try to change only for classic:\n",
    "\n",
    "Number of correct predictions = 105 from 210\n",
    "Accuracy = 50.0\n",
    "\n",
    "So we discard this adjustment."
   ]
  },
  {
   "cell_type": "markdown",
   "metadata": {},
   "source": [
    "## Adjustment 3: Ratings correction factor\n",
    "Adding a rating correction factor based on the analysis of the ratings done at the notebook \"Analyzing_year_ratings\".\n",
    "For all ranges:\n",
    "\n",
    "Results:\n",
    "Number of correct predictions = 100 from 210\n",
    "Accuracy = 47.61904761904762\n",
    "\n",
    "Only for the underestimated ranges:\n",
    "Number of correct predictions = 103 from 210\n",
    "Accuracy = 49.04761904761905\n",
    "\n",
    "So we are not improving the predictions with this correction factor for the evaluation dataset. This factor affects more to the predictions of rapid games rather than classic games. Why? Because it tries to adjust the ratings to make them more equal, those with lower ratings will get increased their ratings and those with a very high rating will get it decreased."
   ]
  },
  {
   "cell_type": "markdown",
   "metadata": {},
   "source": [
    "# Summary of the evaluation\n",
    "We had four different approaches to generate ratings of players and we evaluated the four of them the same way computing the probability following the proposed logaritmic function as explained within the Project Approach notebook.\n",
    "\n",
    "We choose the predictor version 4 with just one rating for each player, mixing both rapic and classic games, and using the weighted factor of the hill-climbing approach when updating the ratings."
   ]
  },
  {
   "cell_type": "markdown",
   "metadata": {},
   "source": [
    "We tried different adjustments for the selected approach in order to increase the accuracy of the predictions, but the three ideas did not improve the baseline."
   ]
  },
  {
   "cell_type": "code",
   "execution_count": null,
   "metadata": {},
   "outputs": [],
   "source": []
  }
 ],
 "metadata": {
  "kernelspec": {
   "display_name": "Python (toptal)",
   "language": "python",
   "name": "toptal"
  },
  "language_info": {
   "codemirror_mode": {
    "name": "ipython",
    "version": 3
   },
   "file_extension": ".py",
   "mimetype": "text/x-python",
   "name": "python",
   "nbconvert_exporter": "python",
   "pygments_lexer": "ipython3",
   "version": "3.10.5"
  }
 },
 "nbformat": 4,
 "nbformat_minor": 4
}
