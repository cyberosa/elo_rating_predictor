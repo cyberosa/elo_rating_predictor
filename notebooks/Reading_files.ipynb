{
 "cells": [
  {
   "cell_type": "markdown",
   "metadata": {},
   "source": [
    "# Load data"
   ]
  },
  {
   "cell_type": "markdown",
   "metadata": {},
   "source": [
    "We detected two types of encoding on the training data."
   ]
  },
  {
   "cell_type": "markdown",
   "metadata": {},
   "source": [
    "# Chinese encoding and different formats"
   ]
  },
  {
   "cell_type": "code",
   "execution_count": 9,
   "metadata": {},
   "outputs": [],
   "source": [
    "import json\n",
    "import pandas as pd\n",
    "import numpy as np\n",
    "import magic\n",
    "import os\n",
    "from unidecode import unidecode"
   ]
  },
  {
   "cell_type": "code",
   "execution_count": 69,
   "metadata": {},
   "outputs": [
    {
     "name": "stdout",
     "output_type": "stream",
     "text": [
      "us-ascii\n"
     ]
    }
   ],
   "source": [
    "blob = open('../data/train/tournament_10.json', 'rb').read()\n",
    "m = magic.Magic(mime_encoding=True)\n",
    "encoding = m.from_buffer(blob)\n",
    "print(encoding)"
   ]
  },
  {
   "cell_type": "code",
   "execution_count": 81,
   "metadata": {},
   "outputs": [
    {
     "name": "stdout",
     "output_type": "stream",
     "text": [
      "utf-8\n"
     ]
    }
   ],
   "source": [
    "blob = open('../data/train/tournament_15.json', 'rb').read()\n",
    "m = magic.Magic(mime_encoding=True)\n",
    "encoding = m.from_buffer(blob)\n",
    "print(encoding)"
   ]
  },
  {
   "cell_type": "markdown",
   "metadata": {},
   "source": [
    "We have a mixture of encondings so we want to unify all names under the same enconding. We are going to transform into ascii those which are Utf-8 using *unidecode*."
   ]
  },
  {
   "cell_type": "markdown",
   "metadata": {},
   "source": [
    "# Tranforming the data"
   ]
  },
  {
   "cell_type": "code",
   "execution_count": 23,
   "metadata": {},
   "outputs": [],
   "source": [
    "with open(\"../data/train/tournament_15.json\", \"rb\") as read_it:\n",
    "     data = json.load(read_it)"
   ]
  },
  {
   "cell_type": "code",
   "execution_count": 24,
   "metadata": {},
   "outputs": [
    {
     "name": "stdout",
     "output_type": "stream",
     "text": [
      "            name  start_date    end_date  tours time_control  \\\n",
      "0  tournament_15  2014-01-31  2014-02-09      9      classic   \n",
      "\n",
      "                                        games.tour_1  \\\n",
      "0  [{'white': '田佳达', 'black': '张跃', 'date': '2014...   \n",
      "\n",
      "                                        games.tour_2  \\\n",
      "0  [{'white': '张跃', 'black': '董迎婴', 'date': '2014...   \n",
      "\n",
      "                                        games.tour_3  \\\n",
      "0  [{'white': '邵红从', 'black': '张跃', 'date': '2014...   \n",
      "\n",
      "                                        games.tour_4  \\\n",
      "0  [{'white': '张跃', 'black': '朱于', 'date': '2014-...   \n",
      "\n",
      "                                        games.tour_5  \\\n",
      "0  [{'white': '杨皓棋', 'black': '张跃', 'date': '2014...   \n",
      "\n",
      "                                        games.tour_6  \\\n",
      "0  [{'white': '张跃', 'black': '梁良', 'date': '2014-...   \n",
      "\n",
      "                                        games.tour_7  \\\n",
      "0  [{'white': '赵西勇', 'black': '张跃', 'date': '2014...   \n",
      "\n",
      "                                        games.tour_8  \\\n",
      "0  [{'white': '张跃', 'black': '曾英兰', 'date': '2014...   \n",
      "\n",
      "                                        games.tour_9  \n",
      "0  [{'white': '陈吉凝', 'black': '张跃', 'date': '2014...  \n"
     ]
    }
   ],
   "source": [
    "t_15 = pd.json_normalize(data)\n",
    "print(t_15.head())"
   ]
  },
  {
   "cell_type": "code",
   "execution_count": 25,
   "metadata": {},
   "outputs": [
    {
     "name": "stdout",
     "output_type": "stream",
     "text": [
      "<class 'pandas.core.frame.DataFrame'>\n",
      "RangeIndex: 1 entries, 0 to 0\n",
      "Data columns (total 14 columns):\n",
      " #   Column        Non-Null Count  Dtype \n",
      "---  ------        --------------  ----- \n",
      " 0   name          1 non-null      object\n",
      " 1   start_date    1 non-null      object\n",
      " 2   end_date      1 non-null      object\n",
      " 3   tours         1 non-null      int64 \n",
      " 4   time_control  1 non-null      object\n",
      " 5   games.tour_1  1 non-null      object\n",
      " 6   games.tour_2  1 non-null      object\n",
      " 7   games.tour_3  1 non-null      object\n",
      " 8   games.tour_4  1 non-null      object\n",
      " 9   games.tour_5  1 non-null      object\n",
      " 10  games.tour_6  1 non-null      object\n",
      " 11  games.tour_7  1 non-null      object\n",
      " 12  games.tour_8  1 non-null      object\n",
      " 13  games.tour_9  1 non-null      object\n",
      "dtypes: int64(1), object(13)\n",
      "memory usage: 240.0+ bytes\n"
     ]
    }
   ],
   "source": [
    "t_15.info()"
   ]
  },
  {
   "cell_type": "code",
   "execution_count": 62,
   "metadata": {},
   "outputs": [
    {
     "name": "stdout",
     "output_type": "stream",
     "text": [
      "   start_date    end_date time_control  \\\n",
      "0  2014-01-31  2014-02-09      classic   \n",
      "0  2014-01-31  2014-02-09      classic   \n",
      "0  2014-01-31  2014-02-09      classic   \n",
      "0  2014-01-31  2014-02-09      classic   \n",
      "0  2014-01-31  2014-02-09      classic   \n",
      "\n",
      "                                               games  \n",
      "0  {'white': '田佳达', 'black': '张跃', 'date': '2014-...  \n",
      "0  {'white': '董迎婴', 'black': '陈吉凝', 'date': '2014...  \n",
      "0  {'white': '邵红从', 'black': '曾英兰', 'date': '2014...  \n",
      "0  {'white': '朱于', 'black': '赵西勇', 'date': '2014-...  \n",
      "0  {'white': '杨皓棋', 'black': '梁良', 'date': '2014-...  \n"
     ]
    }
   ],
   "source": [
    "test = t_15.explode('games.tour_1')\n",
    "test = test[['start_date', 'end_date', 'time_control', 'games.tour_1']]\n",
    "test.rename(columns={'games.tour_1': 'games'}, inplace=True)\n",
    "print(test.head())"
   ]
  },
  {
   "cell_type": "code",
   "execution_count": 63,
   "metadata": {},
   "outputs": [
    {
     "data": {
      "text/html": [
       "<div>\n",
       "<style scoped>\n",
       "    .dataframe tbody tr th:only-of-type {\n",
       "        vertical-align: middle;\n",
       "    }\n",
       "\n",
       "    .dataframe tbody tr th {\n",
       "        vertical-align: top;\n",
       "    }\n",
       "\n",
       "    .dataframe thead th {\n",
       "        text-align: right;\n",
       "    }\n",
       "</style>\n",
       "<table border=\"1\" class=\"dataframe\">\n",
       "  <thead>\n",
       "    <tr style=\"text-align: right;\">\n",
       "      <th></th>\n",
       "      <th>start_date</th>\n",
       "      <th>end_date</th>\n",
       "      <th>time_control</th>\n",
       "      <th>white</th>\n",
       "      <th>black</th>\n",
       "      <th>date</th>\n",
       "      <th>result</th>\n",
       "      <th>id</th>\n",
       "    </tr>\n",
       "  </thead>\n",
       "  <tbody>\n",
       "    <tr>\n",
       "      <th>0</th>\n",
       "      <td>2014-01-31</td>\n",
       "      <td>2014-02-09</td>\n",
       "      <td>classic</td>\n",
       "      <td>田佳达</td>\n",
       "      <td>张跃</td>\n",
       "      <td>2014-01-31</td>\n",
       "      <td>1.0</td>\n",
       "      <td>tournament_15_1</td>\n",
       "    </tr>\n",
       "    <tr>\n",
       "      <th>0</th>\n",
       "      <td>2014-01-31</td>\n",
       "      <td>2014-02-09</td>\n",
       "      <td>classic</td>\n",
       "      <td>董迎婴</td>\n",
       "      <td>陈吉凝</td>\n",
       "      <td>2014-01-31</td>\n",
       "      <td>0.5</td>\n",
       "      <td>tournament_15_2</td>\n",
       "    </tr>\n",
       "    <tr>\n",
       "      <th>0</th>\n",
       "      <td>2014-01-31</td>\n",
       "      <td>2014-02-09</td>\n",
       "      <td>classic</td>\n",
       "      <td>邵红从</td>\n",
       "      <td>曾英兰</td>\n",
       "      <td>2014-01-31</td>\n",
       "      <td>0.5</td>\n",
       "      <td>tournament_15_3</td>\n",
       "    </tr>\n",
       "    <tr>\n",
       "      <th>0</th>\n",
       "      <td>2014-01-31</td>\n",
       "      <td>2014-02-09</td>\n",
       "      <td>classic</td>\n",
       "      <td>朱于</td>\n",
       "      <td>赵西勇</td>\n",
       "      <td>2014-01-31</td>\n",
       "      <td>0.5</td>\n",
       "      <td>tournament_15_4</td>\n",
       "    </tr>\n",
       "    <tr>\n",
       "      <th>0</th>\n",
       "      <td>2014-01-31</td>\n",
       "      <td>2014-02-09</td>\n",
       "      <td>classic</td>\n",
       "      <td>杨皓棋</td>\n",
       "      <td>梁良</td>\n",
       "      <td>2014-01-31</td>\n",
       "      <td>0.5</td>\n",
       "      <td>tournament_15_5</td>\n",
       "    </tr>\n",
       "  </tbody>\n",
       "</table>\n",
       "</div>"
      ],
      "text/plain": [
       "   start_date    end_date time_control white black        date  result  \\\n",
       "0  2014-01-31  2014-02-09      classic   田佳达    张跃  2014-01-31     1.0   \n",
       "0  2014-01-31  2014-02-09      classic   董迎婴   陈吉凝  2014-01-31     0.5   \n",
       "0  2014-01-31  2014-02-09      classic   邵红从   曾英兰  2014-01-31     0.5   \n",
       "0  2014-01-31  2014-02-09      classic    朱于   赵西勇  2014-01-31     0.5   \n",
       "0  2014-01-31  2014-02-09      classic   杨皓棋    梁良  2014-01-31     0.5   \n",
       "\n",
       "                id  \n",
       "0  tournament_15_1  \n",
       "0  tournament_15_2  \n",
       "0  tournament_15_3  \n",
       "0  tournament_15_4  \n",
       "0  tournament_15_5  "
      ]
     },
     "execution_count": 63,
     "metadata": {},
     "output_type": "execute_result"
    }
   ],
   "source": [
    "final = pd.concat([test.drop(['games'], axis=1), test['games'].apply(pd.Series)], axis=1)\n",
    "final"
   ]
  },
  {
   "cell_type": "code",
   "execution_count": 67,
   "metadata": {},
   "outputs": [
    {
     "data": {
      "text/html": [
       "<div>\n",
       "<style scoped>\n",
       "    .dataframe tbody tr th:only-of-type {\n",
       "        vertical-align: middle;\n",
       "    }\n",
       "\n",
       "    .dataframe tbody tr th {\n",
       "        vertical-align: top;\n",
       "    }\n",
       "\n",
       "    .dataframe thead th {\n",
       "        text-align: right;\n",
       "    }\n",
       "</style>\n",
       "<table border=\"1\" class=\"dataframe\">\n",
       "  <thead>\n",
       "    <tr style=\"text-align: right;\">\n",
       "      <th></th>\n",
       "      <th>start_date</th>\n",
       "      <th>end_date</th>\n",
       "      <th>time_control</th>\n",
       "      <th>white</th>\n",
       "      <th>black</th>\n",
       "      <th>date</th>\n",
       "      <th>result</th>\n",
       "      <th>id</th>\n",
       "    </tr>\n",
       "  </thead>\n",
       "  <tbody>\n",
       "    <tr>\n",
       "      <th>0</th>\n",
       "      <td>2014-01-31</td>\n",
       "      <td>2014-02-09</td>\n",
       "      <td>classic</td>\n",
       "      <td>Tian Jia Da</td>\n",
       "      <td>张跃</td>\n",
       "      <td>2014-01-31</td>\n",
       "      <td>1.0</td>\n",
       "      <td>tournament_15_1</td>\n",
       "    </tr>\n",
       "    <tr>\n",
       "      <th>0</th>\n",
       "      <td>2014-01-31</td>\n",
       "      <td>2014-02-09</td>\n",
       "      <td>classic</td>\n",
       "      <td>Dong Ying Ying</td>\n",
       "      <td>陈吉凝</td>\n",
       "      <td>2014-01-31</td>\n",
       "      <td>0.5</td>\n",
       "      <td>tournament_15_2</td>\n",
       "    </tr>\n",
       "    <tr>\n",
       "      <th>0</th>\n",
       "      <td>2014-01-31</td>\n",
       "      <td>2014-02-09</td>\n",
       "      <td>classic</td>\n",
       "      <td>Shao Hong Cong</td>\n",
       "      <td>曾英兰</td>\n",
       "      <td>2014-01-31</td>\n",
       "      <td>0.5</td>\n",
       "      <td>tournament_15_3</td>\n",
       "    </tr>\n",
       "    <tr>\n",
       "      <th>0</th>\n",
       "      <td>2014-01-31</td>\n",
       "      <td>2014-02-09</td>\n",
       "      <td>classic</td>\n",
       "      <td>Zhu Yu</td>\n",
       "      <td>赵西勇</td>\n",
       "      <td>2014-01-31</td>\n",
       "      <td>0.5</td>\n",
       "      <td>tournament_15_4</td>\n",
       "    </tr>\n",
       "    <tr>\n",
       "      <th>0</th>\n",
       "      <td>2014-01-31</td>\n",
       "      <td>2014-02-09</td>\n",
       "      <td>classic</td>\n",
       "      <td>Yang Hao Qi</td>\n",
       "      <td>梁良</td>\n",
       "      <td>2014-01-31</td>\n",
       "      <td>0.5</td>\n",
       "      <td>tournament_15_5</td>\n",
       "    </tr>\n",
       "  </tbody>\n",
       "</table>\n",
       "</div>"
      ],
      "text/plain": [
       "   start_date    end_date time_control            white black        date  \\\n",
       "0  2014-01-31  2014-02-09      classic     Tian Jia Da     张跃  2014-01-31   \n",
       "0  2014-01-31  2014-02-09      classic  Dong Ying Ying    陈吉凝  2014-01-31   \n",
       "0  2014-01-31  2014-02-09      classic  Shao Hong Cong    曾英兰  2014-01-31   \n",
       "0  2014-01-31  2014-02-09      classic          Zhu Yu    赵西勇  2014-01-31   \n",
       "0  2014-01-31  2014-02-09      classic     Yang Hao Qi     梁良  2014-01-31   \n",
       "\n",
       "   result               id  \n",
       "0     1.0  tournament_15_1  \n",
       "0     0.5  tournament_15_2  \n",
       "0     0.5  tournament_15_3  \n",
       "0     0.5  tournament_15_4  \n",
       "0     0.5  tournament_15_5  "
      ]
     },
     "execution_count": 67,
     "metadata": {},
     "output_type": "execute_result"
    }
   ],
   "source": [
    "final['white'] = final['white'].apply(lambda x: unidecode(x))\n",
    "final"
   ]
  },
  {
   "cell_type": "markdown",
   "metadata": {},
   "source": [
    "There is a difference between the names written in Ascii and those converted from Utf-8. We need to have a maximum two words, i.e., surname and name. However we have three words at the transformed players names so if we find that there are three words, we need to merge the last two to build the name."
   ]
  },
  {
   "cell_type": "code",
   "execution_count": 107,
   "metadata": {},
   "outputs": [],
   "source": [
    "def build_name(x):\n",
    "    full_name = unidecode(x).rstrip()\n",
    "    words = full_name.split(\" \")\n",
    "    surname = words[0]\n",
    "    if len(words) == 3:\n",
    "        name = words[1] + words[2].lower()\n",
    "        return surname + ', ' + name\n",
    "    return surname + ', ' + words[1]\n",
    "\n",
    "def build_dataframe(tour_data, utf_8 = False):\n",
    "    final_df = pd.DataFrame()\n",
    "    nr_tour = tour_data['tours'].values[0]\n",
    "    prefix = 'games.tour_'\n",
    "    for i in range(1, nr_tour):\n",
    "        column_name = prefix + str(i)\n",
    "        print(\"Extracting games from \"+column_name)\n",
    "        temp = tour_data.explode(column_name)\n",
    "        temp = temp[['start_date', 'end_date', 'time_control', column_name]]\n",
    "        temp.rename(columns={column_name: 'games'}, inplace=True)\n",
    "        final = pd.concat([temp.drop(['games'], axis=1), temp['games'].apply(pd.Series)], axis=1)\n",
    "        if utf_8:\n",
    "            final['white'] = final['white'].apply(lambda x: build_name(x))\n",
    "            final['black'] = final['black'].apply(lambda x: build_name(x))\n",
    "        final_df = pd.concat([final_df, final])\n",
    "    return final_df"
   ]
  },
  {
   "cell_type": "code",
   "execution_count": null,
   "metadata": {},
   "outputs": [],
   "source": [
    "m = magic.Magic(mime_encoding=True)\n",
    "with open(\"../data/train/tournament_10.json\", \"rb\") as read_it:\n",
    "    blob = open('../train/tournament_10.json', 'rb').read()\n",
    "    encoding = m.from_buffer(blob)\n",
    "    raw = json.load(read_it)\n",
    "    data = pd.json_normalize(raw)\n",
    "    test = build_dataframe(data, encoding =='utf-8')"
   ]
  },
  {
   "cell_type": "code",
   "execution_count": 99,
   "metadata": {},
   "outputs": [
    {
     "name": "stdout",
     "output_type": "stream",
     "text": [
      "   start_date    end_date time_control          white           black  \\\n",
      "0  2014-01-15  2014-02-08        rapid    Liang, Qing     Tian, Xiong   \n",
      "0  2014-01-15  2014-02-08        rapid      Wei, Ming  Pang, Ronggang   \n",
      "0  2014-01-15  2014-02-08        rapid   Guo, Hongmin   Wang, Jianyao   \n",
      "0  2014-01-15  2014-02-08        rapid    Xu, Xiaozhi     Wu, Haifang   \n",
      "0  2014-01-15  2014-02-08        rapid  Zhang, Yajuan       Wang, Jin   \n",
      "\n",
      "         date  result               id  \n",
      "0  2014-01-15     0.5  tournament_10_1  \n",
      "0  2014-01-15     1.0  tournament_10_2  \n",
      "0  2014-01-15     0.0  tournament_10_3  \n",
      "0  2014-01-15     1.0  tournament_10_4  \n",
      "0  2014-01-15     0.0  tournament_10_5  \n"
     ]
    }
   ],
   "source": [
    "print(test.head())"
   ]
  },
  {
   "cell_type": "code",
   "execution_count": 80,
   "metadata": {},
   "outputs": [
    {
     "name": "stdout",
     "output_type": "stream",
     "text": [
      "<class 'pandas.core.frame.DataFrame'>\n",
      "Int64Index: 275 entries, 0 to 0\n",
      "Data columns (total 8 columns):\n",
      " #   Column        Non-Null Count  Dtype  \n",
      "---  ------        --------------  -----  \n",
      " 0   start_date    275 non-null    object \n",
      " 1   end_date      275 non-null    object \n",
      " 2   time_control  275 non-null    object \n",
      " 3   white         275 non-null    object \n",
      " 4   black         275 non-null    object \n",
      " 5   date          275 non-null    object \n",
      " 6   result        275 non-null    float64\n",
      " 7   id            275 non-null    object \n",
      "dtypes: float64(1), object(7)\n",
      "memory usage: 19.3+ KB\n",
      "None\n"
     ]
    }
   ],
   "source": [
    "test.info()"
   ]
  },
  {
   "cell_type": "markdown",
   "metadata": {},
   "source": [
    "Testing for the other file."
   ]
  },
  {
   "cell_type": "code",
   "execution_count": null,
   "metadata": {},
   "outputs": [],
   "source": [
    "with open(\"../data/train/tournament_15.json\", \"rb\") as read_it:\n",
    "    blob = open('../data/train/tournament_15.json', 'rb').read()\n",
    "    encoding = m.from_buffer(blob)\n",
    "    raw = json.load(read_it)\n",
    "    data = pd.json_normalize(raw)\n",
    "    test = build_dataframe(data, encoding =='utf-8')"
   ]
  },
  {
   "cell_type": "code",
   "execution_count": 109,
   "metadata": {},
   "outputs": [
    {
     "name": "stdout",
     "output_type": "stream",
     "text": [
      "   start_date    end_date time_control           white          black  \\\n",
      "0  2014-01-31  2014-02-09      classic     Tian, Jiada     Zhang, Yue   \n",
      "0  2014-01-31  2014-02-09      classic  Dong, Yingying   Chen, Jining   \n",
      "0  2014-01-31  2014-02-09      classic  Shao, Hongcong  Ceng, Yinglan   \n",
      "0  2014-01-31  2014-02-09      classic         Zhu, Yu   Zhao, Xiyong   \n",
      "0  2014-01-31  2014-02-09      classic     Yang, Haoqi   Liang, Liang   \n",
      "\n",
      "         date  result               id  \n",
      "0  2014-01-31     1.0  tournament_15_1  \n",
      "0  2014-01-31     0.5  tournament_15_2  \n",
      "0  2014-01-31     0.5  tournament_15_3  \n",
      "0  2014-01-31     0.5  tournament_15_4  \n",
      "0  2014-01-31     0.5  tournament_15_5  \n"
     ]
    }
   ],
   "source": [
    "print(test.head())"
   ]
  },
  {
   "cell_type": "code",
   "execution_count": 84,
   "metadata": {},
   "outputs": [
    {
     "name": "stdout",
     "output_type": "stream",
     "text": [
      "<class 'pandas.core.frame.DataFrame'>\n",
      "Int64Index: 40 entries, 0 to 0\n",
      "Data columns (total 8 columns):\n",
      " #   Column        Non-Null Count  Dtype  \n",
      "---  ------        --------------  -----  \n",
      " 0   start_date    40 non-null     object \n",
      " 1   end_date      40 non-null     object \n",
      " 2   time_control  40 non-null     object \n",
      " 3   white         40 non-null     object \n",
      " 4   black         40 non-null     object \n",
      " 5   date          40 non-null     object \n",
      " 6   result        40 non-null     float64\n",
      " 7   id            40 non-null     object \n",
      "dtypes: float64(1), object(7)\n",
      "memory usage: 2.8+ KB\n",
      "None\n"
     ]
    }
   ],
   "source": [
    "print(test.info())"
   ]
  },
  {
   "cell_type": "code",
   "execution_count": 110,
   "metadata": {},
   "outputs": [
    {
     "data": {
      "text/html": [
       "<div>\n",
       "<style scoped>\n",
       "    .dataframe tbody tr th:only-of-type {\n",
       "        vertical-align: middle;\n",
       "    }\n",
       "\n",
       "    .dataframe tbody tr th {\n",
       "        vertical-align: top;\n",
       "    }\n",
       "\n",
       "    .dataframe thead th {\n",
       "        text-align: right;\n",
       "    }\n",
       "</style>\n",
       "<table border=\"1\" class=\"dataframe\">\n",
       "  <thead>\n",
       "    <tr style=\"text-align: right;\">\n",
       "      <th></th>\n",
       "      <th>start_date</th>\n",
       "      <th>end_date</th>\n",
       "      <th>time_control</th>\n",
       "      <th>white</th>\n",
       "      <th>black</th>\n",
       "      <th>date</th>\n",
       "      <th>result</th>\n",
       "      <th>id</th>\n",
       "    </tr>\n",
       "  </thead>\n",
       "  <tbody>\n",
       "    <tr>\n",
       "      <th>0</th>\n",
       "      <td>2014-01-31</td>\n",
       "      <td>2014-02-09</td>\n",
       "      <td>classic</td>\n",
       "      <td>Zhang, Yue</td>\n",
       "      <td>Ceng, Yinglan</td>\n",
       "      <td>2014-02-07</td>\n",
       "      <td>0.5</td>\n",
       "      <td>tournament_15_36</td>\n",
       "    </tr>\n",
       "    <tr>\n",
       "      <th>0</th>\n",
       "      <td>2014-01-31</td>\n",
       "      <td>2014-02-09</td>\n",
       "      <td>classic</td>\n",
       "      <td>Zhao, Xiyong</td>\n",
       "      <td>Chen, Jining</td>\n",
       "      <td>2014-02-07</td>\n",
       "      <td>1.0</td>\n",
       "      <td>tournament_15_37</td>\n",
       "    </tr>\n",
       "    <tr>\n",
       "      <th>0</th>\n",
       "      <td>2014-01-31</td>\n",
       "      <td>2014-02-09</td>\n",
       "      <td>classic</td>\n",
       "      <td>Tian, Jiada</td>\n",
       "      <td>Liang, Liang</td>\n",
       "      <td>2014-02-07</td>\n",
       "      <td>0.5</td>\n",
       "      <td>tournament_15_38</td>\n",
       "    </tr>\n",
       "    <tr>\n",
       "      <th>0</th>\n",
       "      <td>2014-01-31</td>\n",
       "      <td>2014-02-09</td>\n",
       "      <td>classic</td>\n",
       "      <td>Dong, Yingying</td>\n",
       "      <td>Yang, Haoqi</td>\n",
       "      <td>2014-02-07</td>\n",
       "      <td>0.0</td>\n",
       "      <td>tournament_15_39</td>\n",
       "    </tr>\n",
       "    <tr>\n",
       "      <th>0</th>\n",
       "      <td>2014-01-31</td>\n",
       "      <td>2014-02-09</td>\n",
       "      <td>classic</td>\n",
       "      <td>Shao, Hongcong</td>\n",
       "      <td>Zhu, Yu</td>\n",
       "      <td>2014-02-07</td>\n",
       "      <td>0.0</td>\n",
       "      <td>tournament_15_40</td>\n",
       "    </tr>\n",
       "  </tbody>\n",
       "</table>\n",
       "</div>"
      ],
      "text/plain": [
       "   start_date    end_date time_control           white          black  \\\n",
       "0  2014-01-31  2014-02-09      classic      Zhang, Yue  Ceng, Yinglan   \n",
       "0  2014-01-31  2014-02-09      classic    Zhao, Xiyong   Chen, Jining   \n",
       "0  2014-01-31  2014-02-09      classic     Tian, Jiada   Liang, Liang   \n",
       "0  2014-01-31  2014-02-09      classic  Dong, Yingying    Yang, Haoqi   \n",
       "0  2014-01-31  2014-02-09      classic  Shao, Hongcong        Zhu, Yu   \n",
       "\n",
       "         date  result                id  \n",
       "0  2014-02-07     0.5  tournament_15_36  \n",
       "0  2014-02-07     1.0  tournament_15_37  \n",
       "0  2014-02-07     0.5  tournament_15_38  \n",
       "0  2014-02-07     0.0  tournament_15_39  \n",
       "0  2014-02-07     0.0  tournament_15_40  "
      ]
     },
     "execution_count": 110,
     "metadata": {},
     "output_type": "execute_result"
    }
   ],
   "source": [
    "test.tail()"
   ]
  },
  {
   "cell_type": "markdown",
   "metadata": {},
   "source": [
    "## Testing files"
   ]
  },
  {
   "cell_type": "markdown",
   "metadata": {},
   "source": [
    "We need to find the way to invert the transformation used to read the json file."
   ]
  },
  {
   "cell_type": "code",
   "execution_count": 72,
   "metadata": {},
   "outputs": [],
   "source": [
    "import json\n",
    "with open(\"../data/test/tournament_test_2.json\", \"rb\") as read_it:\n",
    "     raw = json.load(read_it)"
   ]
  },
  {
   "cell_type": "code",
   "execution_count": 73,
   "metadata": {},
   "outputs": [
    {
     "name": "stdout",
     "output_type": "stream",
     "text": [
      "utf-8\n"
     ]
    }
   ],
   "source": [
    "import magic\n",
    "m = magic.Magic(mime_encoding=True)\n",
    "with open(\"../data/test/tournament_test_2.json\", \"rb\") as read_it:\n",
    "    blob = open(\"../data/test/tournament_test_2.json\", 'rb').read()\n",
    "    encoding = m.from_buffer(blob)\n",
    "    print(encoding)"
   ]
  },
  {
   "cell_type": "code",
   "execution_count": null,
   "metadata": {},
   "outputs": [],
   "source": [
    "raw"
   ]
  },
  {
   "cell_type": "code",
   "execution_count": 76,
   "metadata": {},
   "outputs": [],
   "source": [
    "import pandas as pd\n",
    "data = pd.json_normalize(raw)"
   ]
  },
  {
   "cell_type": "code",
   "execution_count": 77,
   "metadata": {},
   "outputs": [
    {
     "data": {
      "text/html": [
       "<div>\n",
       "<style scoped>\n",
       "    .dataframe tbody tr th:only-of-type {\n",
       "        vertical-align: middle;\n",
       "    }\n",
       "\n",
       "    .dataframe tbody tr th {\n",
       "        vertical-align: top;\n",
       "    }\n",
       "\n",
       "    .dataframe thead th {\n",
       "        text-align: right;\n",
       "    }\n",
       "</style>\n",
       "<table border=\"1\" class=\"dataframe\">\n",
       "  <thead>\n",
       "    <tr style=\"text-align: right;\">\n",
       "      <th></th>\n",
       "      <th>name</th>\n",
       "      <th>start_date</th>\n",
       "      <th>end_date</th>\n",
       "      <th>tours</th>\n",
       "      <th>time_control</th>\n",
       "      <th>games.tour_1</th>\n",
       "      <th>games.tour_2</th>\n",
       "      <th>games.tour_3</th>\n",
       "      <th>games.tour_4</th>\n",
       "      <th>games.tour_5</th>\n",
       "      <th>games.tour_6</th>\n",
       "      <th>games.tour_7</th>\n",
       "      <th>games.tour_8</th>\n",
       "      <th>games.tour_9</th>\n",
       "      <th>games.tour_10</th>\n",
       "    </tr>\n",
       "  </thead>\n",
       "  <tbody>\n",
       "    <tr>\n",
       "      <th>0</th>\n",
       "      <td>tournament_test_2</td>\n",
       "      <td>2020-01-20</td>\n",
       "      <td>2020-02-09</td>\n",
       "      <td>10</td>\n",
       "      <td>classic</td>\n",
       "      <td>[{'white': '吕亚光', 'black': '胡建静', 'date': '202...</td>\n",
       "      <td>[{'white': '陈荣顺', 'black': '吕亚光', 'date': '202...</td>\n",
       "      <td>[{'white': '崔军凯', 'black': '陈荣顺', 'date': '202...</td>\n",
       "      <td>[{'white': '陈荣顺', 'black': '丁晨彤', 'date': '202...</td>\n",
       "      <td>[{'white': '傅星菲', 'black': '陈荣顺', 'date': '202...</td>\n",
       "      <td>[{'white': '陈荣顺', 'black': '魏辟涛', 'date': '202...</td>\n",
       "      <td>[{'white': '黄凯文', 'black': '陈荣顺', 'date': '202...</td>\n",
       "      <td>[{'white': '陈荣顺', 'black': '张春', 'date': '2020...</td>\n",
       "      <td>[{'white': '董海非', 'black': '陈荣顺', 'date': '202...</td>\n",
       "      <td>[{'white': '陈荣顺', 'black': '陈森', 'date': '2020...</td>\n",
       "    </tr>\n",
       "  </tbody>\n",
       "</table>\n",
       "</div>"
      ],
      "text/plain": [
       "                name  start_date    end_date  tours time_control  \\\n",
       "0  tournament_test_2  2020-01-20  2020-02-09     10      classic   \n",
       "\n",
       "                                        games.tour_1  \\\n",
       "0  [{'white': '吕亚光', 'black': '胡建静', 'date': '202...   \n",
       "\n",
       "                                        games.tour_2  \\\n",
       "0  [{'white': '陈荣顺', 'black': '吕亚光', 'date': '202...   \n",
       "\n",
       "                                        games.tour_3  \\\n",
       "0  [{'white': '崔军凯', 'black': '陈荣顺', 'date': '202...   \n",
       "\n",
       "                                        games.tour_4  \\\n",
       "0  [{'white': '陈荣顺', 'black': '丁晨彤', 'date': '202...   \n",
       "\n",
       "                                        games.tour_5  \\\n",
       "0  [{'white': '傅星菲', 'black': '陈荣顺', 'date': '202...   \n",
       "\n",
       "                                        games.tour_6  \\\n",
       "0  [{'white': '陈荣顺', 'black': '魏辟涛', 'date': '202...   \n",
       "\n",
       "                                        games.tour_7  \\\n",
       "0  [{'white': '黄凯文', 'black': '陈荣顺', 'date': '202...   \n",
       "\n",
       "                                        games.tour_8  \\\n",
       "0  [{'white': '陈荣顺', 'black': '张春', 'date': '2020...   \n",
       "\n",
       "                                        games.tour_9  \\\n",
       "0  [{'white': '董海非', 'black': '陈荣顺', 'date': '202...   \n",
       "\n",
       "                                       games.tour_10  \n",
       "0  [{'white': '陈荣顺', 'black': '陈森', 'date': '2020...  "
      ]
     },
     "execution_count": 77,
     "metadata": {},
     "output_type": "execute_result"
    }
   ],
   "source": [
    "data.head()"
   ]
  },
  {
   "cell_type": "code",
   "execution_count": 78,
   "metadata": {},
   "outputs": [
    {
     "data": {
      "text/plain": [
       "[{'white': '吕亚光',\n",
       "  'black': '胡建静',\n",
       "  'date': '2020-01-20',\n",
       "  'id': 'tournament_test_2_1'},\n",
       " {'white': '崔军凯',\n",
       "  'black': '陈森',\n",
       "  'date': '2020-01-20',\n",
       "  'id': 'tournament_test_2_2'},\n",
       " {'white': '丁晨彤',\n",
       "  'black': '董海非',\n",
       "  'date': '2020-01-20',\n",
       "  'id': 'tournament_test_2_3'},\n",
       " {'white': '傅星菲',\n",
       "  'black': '张春',\n",
       "  'date': '2020-01-20',\n",
       "  'id': 'tournament_test_2_4'},\n",
       " {'white': '魏辟涛',\n",
       "  'black': '黄凯文',\n",
       "  'date': '2020-01-20',\n",
       "  'id': 'tournament_test_2_5'}]"
      ]
     },
     "execution_count": 78,
     "metadata": {},
     "output_type": "execute_result"
    }
   ],
   "source": [
    "data['games.tour_1'][0]"
   ]
  },
  {
   "cell_type": "code",
   "execution_count": 88,
   "metadata": {},
   "outputs": [
    {
     "data": {
      "text/plain": [
       "'吕亚光'"
      ]
     },
     "execution_count": 88,
     "metadata": {},
     "output_type": "execute_result"
    }
   ],
   "source": [
    "t = data['games.tour_1'][0][0]['white'].encode('utf-8')\n",
    "t.decode('utf-8')"
   ]
  },
  {
   "cell_type": "code",
   "execution_count": 89,
   "metadata": {},
   "outputs": [
    {
     "name": "stdout",
     "output_type": "stream",
     "text": [
      "吕\n",
      "亚\n",
      "光\n"
     ]
    }
   ],
   "source": [
    "for a in data['games.tour_1'][0][0]['white']:\n",
    "    print(a)"
   ]
  },
  {
   "cell_type": "code",
   "execution_count": 90,
   "metadata": {},
   "outputs": [
    {
     "data": {
      "text/plain": [
       "['吕', '亚', '光']"
      ]
     },
     "execution_count": 90,
     "metadata": {},
     "output_type": "execute_result"
    }
   ],
   "source": [
    "characters = []\n",
    "for a in data['games.tour_1'][0][0]['white']:\n",
    "    characters.append(a)\n",
    "characters"
   ]
  },
  {
   "cell_type": "code",
   "execution_count": 111,
   "metadata": {},
   "outputs": [
    {
     "data": {
      "text/plain": [
       "3"
      ]
     },
     "execution_count": 111,
     "metadata": {},
     "output_type": "execute_result"
    }
   ],
   "source": [
    "len(characters)"
   ]
  },
  {
   "cell_type": "code",
   "execution_count": 99,
   "metadata": {},
   "outputs": [
    {
     "data": {
      "text/plain": [
       "'吕 亚 光'"
      ]
     },
     "execution_count": 99,
     "metadata": {},
     "output_type": "execute_result"
    }
   ],
   "source": [
    "new_name = \" \".join(characters)\n",
    "new_name"
   ]
  },
  {
   "cell_type": "code",
   "execution_count": 110,
   "metadata": {},
   "outputs": [
    {
     "name": "stdout",
     "output_type": "stream",
     "text": [
      "吕 亚 光\n",
      "Lu  Ya  Guang \n",
      "['Lu', 'Ya', 'Guang']\n"
     ]
    },
    {
     "data": {
      "text/plain": [
       "'Lu Yaguang'"
      ]
     },
     "execution_count": 110,
     "metadata": {},
     "output_type": "execute_result"
    }
   ],
   "source": [
    "build_name(new_name, True)"
   ]
  },
  {
   "cell_type": "code",
   "execution_count": 96,
   "metadata": {},
   "outputs": [
    {
     "data": {
      "text/plain": [
       "['Lu', '', 'Ya', '', 'Guang', '']"
      ]
     },
     "execution_count": 96,
     "metadata": {},
     "output_type": "execute_result"
    }
   ],
   "source": [
    "new_name = new_name.rstrip()\n",
    "unidecode(new_name).split(\" \")"
   ]
  },
  {
   "cell_type": "code",
   "execution_count": null,
   "metadata": {},
   "outputs": [],
   "source": [
    "for a in data['games.tour_1'][0][0]['white']:\n",
    "    print(build_name(a,))"
   ]
  },
  {
   "cell_type": "code",
   "execution_count": 109,
   "metadata": {},
   "outputs": [],
   "source": [
    "from unidecode import unidecode\n",
    "import magic\n",
    "def build_name(x, utf_8=False):\n",
    "    '''\n",
    "    Auxiliary function to build the player's name removing commas and under the same ascii encoding\n",
    "    :param x: the name of the player as a string\n",
    "    :param utf_8: True if Utf-8 encodings are used\n",
    "    :return: the clean player's name in Ascii\n",
    "    '''\n",
    "    # remove additional whitespaces at the end of the string or at the beginning\n",
    "    x = x.rstrip()\n",
    "    x = x.lstrip()\n",
    "    # remove commas\n",
    "    x = x.replace(\",\",\"\")\n",
    "    print(x)\n",
    "    if utf_8:\n",
    "        full_name = unidecode(x)\n",
    "    else:\n",
    "        full_name = x\n",
    "    print(full_name)\n",
    "    full_name = full_name.replace('  ', ' ')\n",
    "    full_name = full_name.rstrip()\n",
    "    full_name = full_name.lstrip()\n",
    "    words = full_name.split(\" \")\n",
    "    print(words)\n",
    "    surname = words[0]\n",
    "\n",
    "    if len(words) == 3:\n",
    "        name = words[1] + words[2].lower()\n",
    "        new_name = surname + ' ' + name\n",
    "        return new_name\n",
    "    new_name = surname + ' ' + words[1]\n",
    "    return new_name"
   ]
  },
  {
   "cell_type": "code",
   "execution_count": 83,
   "metadata": {},
   "outputs": [
    {
     "data": {
      "text/plain": [
       "'Lu Ya'"
      ]
     },
     "execution_count": 83,
     "metadata": {},
     "output_type": "execute_result"
    }
   ],
   "source": [
    "build_name(data['games.tour_1'][0][0]['white'], True)"
   ]
  },
  {
   "cell_type": "code",
   "execution_count": 70,
   "metadata": {},
   "outputs": [],
   "source": [
    "def add_result(data, column_name, result, encoding):\n",
    "    new_tour = []\n",
    "    for d in data[column_name][0]:\n",
    "        if encoding == 'utf-8':\n",
    "            d['white'] = unidecode(d['white'])\n",
    "            d['black'] = unidecode(d['black'])\n",
    "        d['result'] = 0.5\n",
    "        new_tour.append(d)\n",
    "    return new_tour\n",
    "    #print(new_tour_1)"
   ]
  },
  {
   "cell_type": "code",
   "execution_count": null,
   "metadata": {},
   "outputs": [],
   "source": [
    "nr_tour = data['tours'].values[0]\n",
    "prefix = 'games.tour_'\n",
    "for i in range(1, nr_tour):\n",
    "    column_name = prefix + str(i)\n",
    "    new_tour = add_result(data, column_name, 0.5, 'utf-8')\n",
    "    data.loc[data['name']=='tournament_test_0',column_name][0] = new_tour"
   ]
  },
  {
   "cell_type": "code",
   "execution_count": 60,
   "metadata": {},
   "outputs": [],
   "source": [
    "def df_to_formatted_json(df, sep=\".\"):\n",
    "    \"\"\"\n",
    "    The opposite of json_normalize\n",
    "    \"\"\"\n",
    "    result = []\n",
    "    for idx, row in df.iterrows():\n",
    "        parsed_row = {}\n",
    "        for col_label,v in row.items():\n",
    "            keys = col_label.split(\".\")\n",
    "\n",
    "            current = parsed_row\n",
    "            for i, k in enumerate(keys):\n",
    "                if i==len(keys)-1:\n",
    "                    current[k] = v\n",
    "                else:\n",
    "                    if k not in current.keys():\n",
    "                        current[k] = {}\n",
    "                    current = current[k]\n",
    "        # save\n",
    "        result.append(parsed_row)\n",
    "    return result[0]"
   ]
  },
  {
   "cell_type": "code",
   "execution_count": 61,
   "metadata": {},
   "outputs": [],
   "source": [
    "raw_back = df_to_formatted_json(data)"
   ]
  },
  {
   "cell_type": "code",
   "execution_count": null,
   "metadata": {},
   "outputs": [],
   "source": [
    "raw_back"
   ]
  },
  {
   "cell_type": "code",
   "execution_count": 63,
   "metadata": {},
   "outputs": [],
   "source": [
    "with open(\"tournament_test_0.json\", \"w\") as fp:\n",
    "    json.dump(raw_back, fp, ensure_ascii=False, indent=4)\n",
    "    fp.close()"
   ]
  },
  {
   "cell_type": "markdown",
   "metadata": {},
   "source": [
    "# Summary\n",
    "The Chinese encoding of some names was challenging, specially those given in chinese characters instead of Ascii recognized letters. Besides the same names were sometimes given with one type of encoding and sometimes with others so we needed to identify them as the same player and not two different players. How we tackle this issues?\n",
    "\n",
    "* unifying the encoding of all names thanks to the unicode library.\n",
    "* removing commas and giving the same format for all names: \"surname name\".\n",
    "* checking the final names and identifying redundancies, for instance with the character 'ü' that we discovered it was wrongly translated as 'v'."
   ]
  },
  {
   "cell_type": "markdown",
   "metadata": {},
   "source": [
    "# Resources\n",
    "https://pypi.org/project/python-magic/\n",
    "\n",
    "https://www.delftstack.com/howto/python/convert-unicode-to-ascii-python/"
   ]
  },
  {
   "cell_type": "code",
   "execution_count": null,
   "metadata": {},
   "outputs": [],
   "source": []
  }
 ],
 "metadata": {
  "kernelspec": {
   "display_name": "Python 3",
   "language": "python",
   "name": "python3"
  },
  "language_info": {
   "codemirror_mode": {
    "name": "ipython",
    "version": 3
   },
   "file_extension": ".py",
   "mimetype": "text/x-python",
   "name": "python",
   "nbconvert_exporter": "python",
   "pygments_lexer": "ipython3",
   "version": "3.7.7"
  }
 },
 "nbformat": 4,
 "nbformat_minor": 4
}
